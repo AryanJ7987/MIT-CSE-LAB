{
 "cells": [
  {
   "cell_type": "code",
   "execution_count": 1,
   "id": "013cd81c-fc71-4f58-8b5f-fc88e528b95a",
   "metadata": {},
   "outputs": [
    {
     "name": "stdout",
     "output_type": "stream",
     "text": [
      "image= tensor([[0.8591, 0.7872, 0.9561, 0.8969, 0.7553, 0.1813],\n",
      "        [0.1469, 0.6568, 0.8806, 0.4949, 0.8107, 0.4025],\n",
      "        [0.2246, 0.8369, 0.7952, 0.8936, 0.8795, 0.0971],\n",
      "        [0.8675, 0.1256, 0.9136, 0.4008, 0.6460, 0.2811],\n",
      "        [0.5862, 0.7832, 0.3676, 0.9741, 0.0938, 0.4482],\n",
      "        [0.7913, 0.5600, 0.9340, 0.5363, 0.3098, 0.3481]])\n",
      "image.shape= torch.Size([1, 6, 6])\n",
      "image.shape= torch.Size([1, 1, 6, 6])\n",
      "image= tensor([[[[0.8591, 0.7872, 0.9561, 0.8969, 0.7553, 0.1813],\n",
      "          [0.1469, 0.6568, 0.8806, 0.4949, 0.8107, 0.4025],\n",
      "          [0.2246, 0.8369, 0.7952, 0.8936, 0.8795, 0.0971],\n",
      "          [0.8675, 0.1256, 0.9136, 0.4008, 0.6460, 0.2811],\n",
      "          [0.5862, 0.7832, 0.3676, 0.9741, 0.0938, 0.4482],\n",
      "          [0.7913, 0.5600, 0.9340, 0.5363, 0.3098, 0.3481]]]])\n",
      "kernel= tensor([[1., 1., 1.],\n",
      "        [1., 1., 1.],\n",
      "        [1., 1., 1.]])\n",
      "outimage= tensor([[[[6.1436, 7.1983, 7.3628, 5.4118],\n",
      "          [5.4477, 5.9980, 6.7149, 4.9063],\n",
      "          [5.5004, 6.0906, 5.9643, 4.7144],\n",
      "          [5.9289, 5.5951, 5.1760, 4.0383]]]])\n",
      "image.shape= torch.Size([1, 1, 4, 4])\n"
     ]
    },
    {
     "data": {
      "image/png": "[encoded data removed]",
      "text/plain": [
       "<Figure size 640x480 with 2 Axes>"
      ]
     },
     "metadata": {},
     "output_type": "display_data"
    }
   ],
   "source": [
    "import torch\n",
    "import torch.nn as nn\n",
    "import torch.nn.functional as F\n",
    "import matplotlib.pyplot as plt\n",
    "\n",
    "\n",
    "\n",
    "\n",
    "image = torch.rand(6,6)\n",
    "print(\"image=\", image)\n",
    "\n",
    "#Add a new dimension along 0th dimension\n",
    "#i.e. (6,6) becomes (1,6,6). This is because\n",
    "#pytorch expects the input to conv2D as 4d tensor\n",
    "image = image.unsqueeze(dim=0)\n",
    "print(\"image.shape=\", image.shape)\n",
    "image = image.unsqueeze(dim=0)\n",
    "print(\"image.shape=\", image.shape)\n",
    "print(\"image=\", image)\n",
    "\n",
    "kernel = torch.ones(3,3)\n",
    "# kernel = torch.rand(3,3)\n",
    "print(\"kernel=\", kernel)\n",
    "kernel = kernel.unsqueeze(dim=0)\n",
    "kernel = kernel.unsqueeze(dim=0)\n",
    "#Perform the convolution\n",
    "outimage = F.conv2d(image, kernel, stride=1, padding=0)\n",
    "print(\"outimage=\", outimage)\n",
    "print(\"image.shape=\", outimage.shape)\n",
    "\n",
    "im = torch.squeeze(image)\n",
    "out = torch.squeeze(outimage)\n",
    "arr = [im, out]\n",
    "# out = out[:2]\n",
    "for i in range(0, 2):\n",
    "    plt.subplot(1, 2, 1+i)\n",
    "    plt.imshow(arr[i])\n",
    "plt.show()"
   ]
  },
  {
   "cell_type": "markdown",
   "id": "43659cab-d8c9-47d2-a7e4-bf822126020f",
   "metadata": {},
   "source": [
    "# Q2"
   ]
  },
  {
   "cell_type": "code",
   "execution_count": 2,
   "id": "b48d9791-5551-4a98-879b-59a7d6be7566",
   "metadata": {},
   "outputs": [
    {
     "name": "stdout",
     "output_type": "stream",
     "text": [
      "tensor([[[[0.8591, 0.7872, 0.9561, 0.8969, 0.7553, 0.1813],\n",
      "          [0.1469, 0.6568, 0.8806, 0.4949, 0.8107, 0.4025],\n",
      "          [0.2246, 0.8369, 0.7952, 0.8936, 0.8795, 0.0971],\n",
      "          [0.8675, 0.1256, 0.9136, 0.4008, 0.6460, 0.2811],\n",
      "          [0.5862, 0.7832, 0.3676, 0.9741, 0.0938, 0.4482],\n",
      "          [0.7913, 0.5600, 0.9340, 0.5363, 0.3098, 0.3481]]]])\n",
      "tensor([[[[-0.6817, -0.5753, -0.5886, -0.6534],\n",
      "          [-0.4608, -0.4409, -0.5927, -0.2400],\n",
      "          [-0.3775, -0.6422, -0.5312, -0.5634],\n",
      "          [-0.4277, -0.3452, -0.5864, -0.1738]],\n",
      "\n",
      "         [[-0.0978,  0.0100,  0.0126, -0.0056],\n",
      "          [-0.1417, -0.0062, -0.1466,  0.1017],\n",
      "          [-0.1926,  0.0207, -0.1565,  0.1965],\n",
      "          [-0.0995, -0.0562, -0.0937,  0.0709]],\n",
      "\n",
      "         [[ 0.0300, -0.1137, -0.1658, -0.0754],\n",
      "          [ 0.1231, -0.0161,  0.0252, -0.1286],\n",
      "          [-0.2514,  0.0660, -0.2726,  0.0702],\n",
      "          [-0.0857, -0.1355, -0.0629, -0.1751]]]],\n",
      "       grad_fn=<ConvolutionBackward0>) /n torch.Size([1, 3, 4, 4])\n",
      "tensor([[[[-0.6817, -0.5753, -0.5886, -0.6534],\n",
      "          [-0.4608, -0.4409, -0.5927, -0.2400],\n",
      "          [-0.3775, -0.6422, -0.5312, -0.5634],\n",
      "          [-0.4277, -0.3452, -0.5864, -0.1738]],\n",
      "\n",
      "         [[-0.0978,  0.0100,  0.0126, -0.0056],\n",
      "          [-0.1417, -0.0062, -0.1466,  0.1017],\n",
      "          [-0.1926,  0.0207, -0.1565,  0.1965],\n",
      "          [-0.0995, -0.0562, -0.0937,  0.0709]],\n",
      "\n",
      "         [[ 0.0300, -0.1137, -0.1658, -0.0754],\n",
      "          [ 0.1231, -0.0161,  0.0252, -0.1286],\n",
      "          [-0.2514,  0.0660, -0.2726,  0.0702],\n",
      "          [-0.0857, -0.1355, -0.0629, -0.1751]]]])\n",
      "torch.Size([1, 3, 4, 4])\n"
     ]
    }
   ],
   "source": [
    "# image = torch.rand(36,36)\n",
    "print(image)\n",
    "kernel = nn.Conv2d(1, 3, 3, stride=1, padding = 0, bias=False)\n",
    "m = kernel(image)\n",
    "print(m, \"/n\",f\"{m.shape}\")\n",
    "\n",
    "p = [n.data for n in kernel.parameters()][0]\n",
    "f = F.conv2d(image, p, padding = 0)\n",
    "\n",
    "print(f)\n",
    "\n",
    "print(f.shape)\n"
   ]
  },
  {
   "cell_type": "code",
   "execution_count": 3,
   "id": "b297e54c-6c13-4b5a-b534-1f7dce433b6f",
   "metadata": {},
   "outputs": [
    {
     "name": "stderr",
     "output_type": "stream",
     "text": [
      "Clipping input data to the valid range for imshow with RGB data ([0..1] for floats or [0..255] for integers).\n"
     ]
    },
    {
     "name": "stdout",
     "output_type": "stream",
     "text": [
      "torch.Size([4, 4, 3])\n"
     ]
    },
    {
     "data": {
      "image/png": "[encoded data removed]",
      "text/plain": [
       "<Figure size 640x480 with 2 Axes>"
      ]
     },
     "metadata": {},
     "output_type": "display_data"
    }
   ],
   "source": [
    "f.shape\n",
    "# f =f[-1::]\n",
    "f = torch.squeeze(f)\n",
    "f = f.permute(2,1,0)\n",
    "print(f.shape)\n",
    "\n",
    "img = torch.squeeze(image)\n",
    "arr = [img, f]\n",
    "for i in range(0, 2):\n",
    "    plt.subplot(1, 2, 1+i)\n",
    "    plt.imshow(arr[i])\n",
    "plt.show()"
   ]
  },
  {
   "cell_type": "code",
   "execution_count": 4,
   "id": "d04515a8-2a79-43a4-bb73-fd6297983c7a",
   "metadata": {
    "scrolled": true
   },
   "outputs": [],
   "source": [
    "import torch\n",
    "from torch.utils.data import Dataset, DataLoader\n",
    "import torchvision\n",
    "import torchvision.transforms as transforms\n",
    "import torchvision.datasets as datasets\n",
    "from torchvision.transforms import ToTensor\n",
    "import torch.nn as nn\n",
    "import torch.nn.functional as F\n",
    "\n",
    "from tqdm.notebook import tqdm\n",
    "\n",
    "import matplotlib.pyplot as plt\n",
    "plt.style.use(\"seaborn-v0_8\")"
   ]
  },
  {
   "cell_type": "code",
   "execution_count": 5,
   "id": "9c8f4b80-3da8-4f43-aed7-0d29660296f2",
   "metadata": {},
   "outputs": [],
   "source": [
    "\n",
    "transform = transforms.ToTensor()\n",
    "\n",
    "mnist_trainset = datasets.MNIST(root='./data', train=True, download=True, transform = ToTensor())\n",
    "mnist_testset = datasets.MNIST(root='./data', train=False, download=True, transform = ToTensor())\n",
    "\n",
    "data_loading_params = {'batch_size': 16,\n",
    "                       'shuffle': True,\n",
    "                       'num_workers': 6\n",
    "                      }\n",
    "\n",
    "train_data = torch.utils.data.DataLoader(mnist_trainset, **data_loading_params)\n",
    "test_data = torch.utils.data.DataLoader(mnist_testset, **data_loading_params)"
   ]
  },
  {
   "cell_type": "code",
   "execution_count": 6,
   "id": "b8cb2da9-a3b6-47b8-837a-25e1dbdf789d",
   "metadata": {},
   "outputs": [],
   "source": [
    "class ConvNN(nn.Module):\n",
    "    \n",
    "    def __init__(self, channels, kernels, layers):\n",
    "        super(ConvNN, self).__init__()\n",
    "        \n",
    "        self.conv = nn.ModuleList([nn.Conv2d(c, channels[i+1], k) for (i, c), k in zip(enumerate(channels[:-1]), kernels)])\n",
    "        self.linear = nn.ModuleList([nn.Linear(v, layers[i+1]) for i, v in enumerate(layers[:-1])])\n",
    "        self.pool = nn.MaxPool2d(2, 2)\n",
    "        self.softmax = nn.Softmax(dim=1)\n",
    "    \n",
    "    \n",
    "    def forward(self, x):\n",
    "        for i, l in enumerate(self.conv):\n",
    "            x = self.pool(\n",
    "                F.relu(\n",
    "                l(x)\n",
    "            ))\n",
    "        \n",
    "        x = torch.flatten(x, 1)\n",
    "\n",
    "        for i, l in enumerate(self.linear[:-1]):\n",
    "            x = F.relu(l(x))\n",
    "\n",
    "        x = self.softmax(self.linear[-1](x))\n",
    "\n",
    "        return x\n",
    "\n",
    "    def parameter_count(self):\n",
    "        return sum(p.numel() for p in self.parameters())\n",
    "        \n",
    "\n",
    "def fit(model, train_data, criterion, optimizer, num_epochs=10):\n",
    "\n",
    "    for epoch in tqdm(range(num_epochs), desc=\"Epochs\", leave=False):\n",
    "        for local_batch, local_labels in tqdm(train_data, desc=\"Batches\", leave=False):\n",
    "    \n",
    "            local_batch, local_labels = local_batch.to(device), local_labels.to(device)\n",
    "                \n",
    "            optimizer.zero_grad()\n",
    "            loss = criterion(model(local_batch), local_labels)\n",
    "    \n",
    "            loss.backward()\n",
    "            optimizer.step()"
   ]
  },
  {
   "cell_type": "code",
   "execution_count": 7,
   "id": "2bc6a6cd-f99a-4fe3-8cf6-dad75fa72ef7",
   "metadata": {},
   "outputs": [],
   "source": [
    "from sklearn.metrics import confusion_matrix\n",
    "\n",
    "def get_confusion_matrix(model, data_loader):\n",
    "\n",
    "    y_true = []\n",
    "    y_pred = []\n",
    "\n",
    "    correct = 0\n",
    "    total = 0\n",
    "    \n",
    "    with torch.no_grad():\n",
    "        for images, labels in tqdm(data_loader, leave=False):\n",
    "            images, labels = images.to(device), labels.to(device)\n",
    "    \n",
    "            outputs = model(images)\n",
    "            _, predicted = torch.max(outputs.data, 1)\n",
    "\n",
    "            correct += (predicted == labels).sum().item()\n",
    "            total += len(labels)\n",
    "\n",
    "            nlabels = labels.data.cpu().numpy()\n",
    "            predicted = predicted.data.cpu().numpy()\n",
    "            \n",
    "            y_pred.extend(predicted)\n",
    "            y_true.extend(nlabels)\n",
    "\n",
    "    cf_matrix = confusion_matrix(y_true, y_pred)\n",
    "    acc = 100 * correct / total\n",
    "    \n",
    "    return cf_matrix, acc\n",
    "            "
   ]
  },
  {
   "cell_type": "code",
   "execution_count": 8,
   "id": "3926aadd-c952-4fb7-9905-a33bda17e04f",
   "metadata": {},
   "outputs": [
    {
     "data": {
      "application/vnd.jupyter.widget-view+json": {
       "model_id": "",
       "version_major": 2,
       "version_minor": 0
      },
      "text/plain": [
       "Epochs:   0%|          | 0/10 [00:00<?, ?it/s]"
      ]
     },
     "metadata": {},
     "output_type": "display_data"
    },
    {
     "data": {
      "application/vnd.jupyter.widget-view+json": {
       "model_id": "",
       "version_major": 2,
       "version_minor": 0
      },
      "text/plain": [
       "Batches:   0%|          | 0/3750 [00:00<?, ?it/s]"
      ]
     },
     "metadata": {},
     "output_type": "display_data"
    },
    {
     "name": "stderr",
     "output_type": "stream",
     "text": [
      "/opt/anaconda3/envs/pytorch_env/lib/python3.11/site-packages/torch/nn/modules/conv.py:456: UserWarning: Applied workaround for CuDNN issue, install nvrtc.so (Triggered internally at /opt/conda/conda-bld/pytorch_1702400440653/work/aten/src/ATen/native/cudnn/Conv_v8.cpp:80.)\n",
      "  return F.conv2d(input, weight, bias, self.stride,\n"
     ]
    },
    {
     "data": {
      "application/vnd.jupyter.widget-view+json": {
       "model_id": "",
       "version_major": 2,
       "version_minor": 0
      },
      "text/plain": [
       "Batches:   0%|          | 0/3750 [00:00<?, ?it/s]"
      ]
     },
     "metadata": {},
     "output_type": "display_data"
    },
    {
     "data": {
      "application/vnd.jupyter.widget-view+json": {
       "model_id": "",
       "version_major": 2,
       "version_minor": 0
      },
      "text/plain": [
       "Batches:   0%|          | 0/3750 [00:00<?, ?it/s]"
      ]
     },
     "metadata": {},
     "output_type": "display_data"
    },
    {
     "data": {
      "application/vnd.jupyter.widget-view+json": {
       "model_id": "",
       "version_major": 2,
       "version_minor": 0
      },
      "text/plain": [
       "Batches:   0%|          | 0/3750 [00:00<?, ?it/s]"
      ]
     },
     "metadata": {},
     "output_type": "display_data"
    },
    {
     "data": {
      "application/vnd.jupyter.widget-view+json": {
       "model_id": "",
       "version_major": 2,
       "version_minor": 0
      },
      "text/plain": [
       "Batches:   0%|          | 0/3750 [00:00<?, ?it/s]"
      ]
     },
     "metadata": {},
     "output_type": "display_data"
    },
    {
     "data": {
      "application/vnd.jupyter.widget-view+json": {
       "model_id": "",
       "version_major": 2,
       "version_minor": 0
      },
      "text/plain": [
       "Batches:   0%|          | 0/3750 [00:00<?, ?it/s]"
      ]
     },
     "metadata": {},
     "output_type": "display_data"
    },
    {
     "data": {
      "application/vnd.jupyter.widget-view+json": {
       "model_id": "",
       "version_major": 2,
       "version_minor": 0
      },
      "text/plain": [
       "Batches:   0%|          | 0/3750 [00:00<?, ?it/s]"
      ]
     },
     "metadata": {},
     "output_type": "display_data"
    },
    {
     "data": {
      "application/vnd.jupyter.widget-view+json": {
       "model_id": "",
       "version_major": 2,
       "version_minor": 0
      },
      "text/plain": [
       "Batches:   0%|          | 0/3750 [00:00<?, ?it/s]"
      ]
     },
     "metadata": {},
     "output_type": "display_data"
    },
    {
     "data": {
      "application/vnd.jupyter.widget-view+json": {
       "model_id": "",
       "version_major": 2,
       "version_minor": 0
      },
      "text/plain": [
       "Batches:   0%|          | 0/3750 [00:00<?, ?it/s]"
      ]
     },
     "metadata": {},
     "output_type": "display_data"
    },
    {
     "data": {
      "application/vnd.jupyter.widget-view+json": {
       "model_id": "",
       "version_major": 2,
       "version_minor": 0
      },
      "text/plain": [
       "Batches:   0%|          | 0/3750 [00:00<?, ?it/s]"
      ]
     },
     "metadata": {},
     "output_type": "display_data"
    }
   ],
   "source": [
    "device = \"cuda\" if torch.cuda.is_available() else \"cpu\"\n",
    "\n",
    "model = ConvNN(\n",
    "    channels=[1, 64, 128, 64], \n",
    "    kernels=[5, 3, 3], \n",
    "    layers=[64, 25, 10], \n",
    ").to(device)\n",
    "\n",
    "optimizer = torch.optim.Adam(model.parameters(), lr=0.001)\n",
    "criterion = nn.CrossEntropyLoss().to(device)\n",
    "\n",
    "fit(model, train_data, criterion, optimizer)"
   ]
  },
  {
   "cell_type": "code",
   "execution_count": 9,
   "id": "ae3be44a-cbcb-45be-a64f-8d9cf7c355ae",
   "metadata": {},
   "outputs": [
    {
     "data": {
      "application/vnd.jupyter.widget-view+json": {
       "model_id": "",
       "version_major": 2,
       "version_minor": 0
      },
      "text/plain": [
       "  0%|          | 0/3750 [00:00<?, ?it/s]"
      ]
     },
     "metadata": {},
     "output_type": "display_data"
    },
    {
     "data": {
      "application/vnd.jupyter.widget-view+json": {
       "model_id": "",
       "version_major": 2,
       "version_minor": 0
      },
      "text/plain": [
       "  0%|          | 0/625 [00:00<?, ?it/s]"
      ]
     },
     "metadata": {},
     "output_type": "display_data"
    }
   ],
   "source": [
    "\n",
    "\n",
    "train_cf, train_acc = get_confusion_matrix(model, train_data)\n",
    "test_cf, test_acc = get_confusion_matrix(model, test_data)\n",
    "\n"
   ]
  },
  {
   "cell_type": "code",
   "execution_count": 10,
   "id": "e904b3c0-1cce-42e2-ba33-fa11b13e6402",
   "metadata": {},
   "outputs": [
    {
     "name": "stdout",
     "output_type": "stream",
     "text": [
      "97.43666666666667 97.51\n"
     ]
    }
   ],
   "source": [
    "print(train_acc, test_acc)"
   ]
  },
  {
   "cell_type": "code",
   "execution_count": null,
   "id": "10467dab-c1d7-4093-8b06-cfcab882f76d",
   "metadata": {},
   "outputs": [
    {
     "data": {
      "application/vnd.jupyter.widget-view+json": {
       "model_id": "d8d1a4145f4b449ebdec3a3de26a485f",
       "version_major": 2,
       "version_minor": 0
      },
      "text/plain": [
       "Epochs:   0%|          | 0/10 [00:00<?, ?it/s]"
      ]
     },
     "metadata": {},
     "output_type": "display_data"
    },
    {
     "data": {
      "application/vnd.jupyter.widget-view+json": {
       "model_id": "",
       "version_major": 2,
       "version_minor": 0
      },
      "text/plain": [
       "Batches:   0%|          | 0/3750 [00:00<?, ?it/s]"
      ]
     },
     "metadata": {},
     "output_type": "display_data"
    },
    {
     "data": {
      "application/vnd.jupyter.widget-view+json": {
       "model_id": "0c6073541f69406492b71401970f8db3",
       "version_major": 2,
       "version_minor": 0
      },
      "text/plain": [
       "Batches:   0%|          | 0/3750 [00:00<?, ?it/s]"
      ]
     },
     "metadata": {},
     "output_type": "display_data"
    }
   ],
   "source": [
    "small_model = ConvNN(\n",
    "    channels=[1, 5, 3],\n",
    "    kernels=[5, 3],\n",
    "    layers=[75, 25, 10]\n",
    ").to(device)\n",
    "\n",
    "s_optimizer = torch.optim.Adam(small_model.parameters(), lr=0.001)\n",
    "\n",
    "fit(small_model, train_data, criterion, s_optimizer)\n",
    "\n",
    "train_cf_s, train_acc_s = get_confusion_matrix(small_model, train_data)\n",
    "test_cf_s, test_acc_s = get_confusion_matrix(small_model, test_data)\n",
    "\n",
    "print(f'Small model: num_params={small_model.parameter_count()}, train_acc={train_acc_s}, test_acc={test_acc_s}')\n"
   ]
  }
 ],
 "metadata": {
  "kernelspec": {
   "display_name": "Python 3 (ipykernel)",
   "language": "python",
   "name": "python3"
  },
  "language_info": {
   "codemirror_mode": {
    "name": "ipython",
    "version": 3
   },
   "file_extension": ".py",
   "mimetype": "text/x-python",
   "name": "python",
   "nbconvert_exporter": "python",
   "pygments_lexer": "ipython3",
   "version": "3.11.7"
  }
 },
 "nbformat": 4,
 "nbformat_minor": 5
}
