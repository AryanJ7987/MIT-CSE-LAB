{
 "cells": [
  {
   "cell_type": "code",
   "execution_count": 1,
   "id": "4d4eeef2-f5f6-4dfa-8526-4dcd3e3e6b0b",
   "metadata": {},
   "outputs": [],
   "source": [
    "import pandas as pd\n",
    "import numpy as np\n",
    "\n",
    "import torch\n",
    "import torch.nn as nn\n",
    "import torch.nn.functional as F\n",
    "\n",
    "from torch.utils.data import DataLoader, Dataset\n",
    "\n",
    "from tqdm.notebook import tqdm\n",
    "\n",
    "import matplotlib.pyplot as plt\n",
    "plt.style.use(\"seaborn-v0_8\")\n",
    "\n",
    "import torchvision\n",
    "import torchvision.transforms as transforms\n",
    "\n",
    "from PIL import Image"
   ]
  },
  {
   "cell_type": "code",
   "execution_count": 3,
   "id": "55d11da3-2186-407a-923f-a7cbdde53916",
   "metadata": {},
   "outputs": [],
   "source": [
    "#Q1"
   ]
  },
  {
   "cell_type": "code",
   "execution_count": 5,
   "id": "7476e890-bbe8-48bf-96d1-77f478b27332",
   "metadata": {},
   "outputs": [
    {
     "name": "stdout",
     "output_type": "stream",
     "text": [
      "Final loss = 0.347165584564209\n"
     ]
    },
    {
     "data": {
      "image/png": "[encoded data removed]",
      "text/plain": [
       "<Figure size 800x550 with 1 Axes>"
      ]
     },
     "metadata": {},
     "output_type": "display_data"
    }
   ],
   "source": [
    "import pandas as pd\n",
    "import numpy as np\n",
    "\n",
    "\n",
    "import torch\n",
    "import torch.nn as nn\n",
    "import torch.nn.functional as F\n",
    "\n",
    "from torch.utils.data import DataLoader, Dataset\n",
    "\n",
    "from tqdm.notebook import tqdm\n",
    "\n",
    "import matplotlib.pyplot as plt\n",
    "plt.style.use(\"seaborn-v0_8\")\n",
    "device = \"cuda\" if torch.cuda.is_available() else \"cpu\"\n",
    "\n",
    "class NeuralNetwork(nn.Module):\n",
    "    \n",
    "    def __init__(self, layer_sizes, activation=F.relu):\n",
    "        super(NeuralNetwork, self).__init__()\n",
    "        self.linears = nn.ModuleList(\n",
    "            [nn.Linear(v, layer_sizes[i+1]) for i, v in enumerate(layer_sizes[:-1])]\n",
    "        )\n",
    "        self.activation = activation\n",
    "        \n",
    "    def forward(self, x):\n",
    "        for l in self.linears[:-1]:\n",
    "            x = self.activation(l(x))\n",
    "\n",
    "        x = self.linears[-1](x)\n",
    "        x = F.sigmoid(x)\n",
    "            \n",
    "        return x\n",
    "\n",
    "X = torch.Tensor([[0, 0], [0, 1], [1, 0], [1, 1]])\n",
    "y = torch.Tensor([0, 1, 1, 0]).reshape(-1, 1)\n",
    "\n",
    "class XORDataset(Dataset):\n",
    "\n",
    "    def __init__(self, X, y):\n",
    "        self.X = X\n",
    "        self.y = y\n",
    "\n",
    "    def __len__(self):\n",
    "        return len(self.y)\n",
    "\n",
    "    def __getitem__(self, index):\n",
    "        return self.X[index].to(device), self.y[index].to(device)\n",
    "\n",
    "xor_data = XORDataset(X, y)\n",
    "xor_dataloader = DataLoader(xor_data, batch_size=4, shuffle=True)\n",
    "\n",
    "LEARNING_RATE = 0.05\n",
    "NUM_EPOCHS = 1000\n",
    "\n",
    "layers = [2, 2, 1]\n",
    "xor = NeuralNetwork(layers, activation=F.sigmoid).to(device)\n",
    "criterion = nn.BCELoss().to(device)\n",
    "optimizer = torch.optim.Adam(xor.parameters(), lr=LEARNING_RATE)\n",
    "losses = []\n",
    "\n",
    "for epoch in range(NUM_EPOCHS):\n",
    "\n",
    "    for batch_inputs, batch_labels in xor_dataloader:\n",
    "    \n",
    "        optimizer.zero_grad()\n",
    "        outputs = xor(batch_inputs)\n",
    "        loss = criterion(outputs, batch_labels)\n",
    "        \n",
    "        loss.backward()\n",
    "        optimizer.step()\n",
    "        \n",
    "        losses.append(loss.item())\n",
    "\n",
    "    # print(f\"Finished epoch {epoch+1} / {NUM_EPOCHS}\")\n",
    "    \n",
    "\n",
    "print(f\"Final loss = {losses[-1]}\")\n",
    "plt.plot(range(NUM_EPOCHS), losses)\n",
    "plt.show()"
   ]
  },
  {
   "cell_type": "code",
   "execution_count": null,
   "id": "8078eb9b-7e82-43a5-973e-1985303f5ecd",
   "metadata": {},
   "outputs": [],
   "source": []
  }
 ],
 "metadata": {
  "kernelspec": {
   "display_name": "Python 3 (ipykernel)",
   "language": "python",
   "name": "python3"
  },
  "language_info": {
   "codemirror_mode": {
    "name": "ipython",
    "version": 3
   },
   "file_extension": ".py",
   "mimetype": "text/x-python",
   "name": "python",
   "nbconvert_exporter": "python",
   "pygments_lexer": "ipython3",
   "version": "3.11.7"
  }
 },
 "nbformat": 4,
 "nbformat_minor": 5
}
