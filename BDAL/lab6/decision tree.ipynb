{
 "cells": [
  {
   "cell_type": "code",
   "execution_count": 1,
   "metadata": {},
   "outputs": [],
   "source": [
    "import pyspark\n",
    "from pyspark.sql import SparkSession"
   ]
  },
  {
   "cell_type": "code",
   "execution_count": 2,
   "metadata": {
    "scrolled": true
   },
   "outputs": [
    {
     "name": "stderr",
     "output_type": "stream",
     "text": [
      "/home/lplab/anaconda3/lib/python3.7/site-packages/pyspark/context.py:317: FutureWarning: Python 3.7 support is deprecated in Spark 3.4.\n",
      "  warnings.warn(\"Python 3.7 support is deprecated in Spark 3.4.\", FutureWarning)\n"
     ]
    }
   ],
   "source": [
    "spark = SparkSession.builder.appName('Decision_Trees').getOrCreate()"
   ]
  },
  {
   "cell_type": "markdown",
   "metadata": {},
   "source": [
    "1. Demonstrate how to load a dataset suitable for prediction into a PySpark DataFrame and\n",
    "Display basic statistics and information about the dataset."
   ]
  },
  {
   "cell_type": "code",
   "execution_count": 3,
   "metadata": {},
   "outputs": [
    {
     "name": "stdout",
     "output_type": "stream",
     "text": [
      "root\n",
      " |-- _c0: integer (nullable = true)\n",
      " |-- _c1: integer (nullable = true)\n",
      " |-- _c2: integer (nullable = true)\n",
      " |-- _c3: integer (nullable = true)\n",
      " |-- _c4: integer (nullable = true)\n",
      " |-- _c5: integer (nullable = true)\n",
      " |-- _c6: integer (nullable = true)\n",
      " |-- _c7: integer (nullable = true)\n",
      " |-- _c8: integer (nullable = true)\n",
      " |-- _c9: integer (nullable = true)\n",
      " |-- _c10: integer (nullable = true)\n",
      " |-- _c11: integer (nullable = true)\n",
      " |-- _c12: integer (nullable = true)\n",
      " |-- _c13: integer (nullable = true)\n",
      " |-- _c14: integer (nullable = true)\n",
      " |-- _c15: integer (nullable = true)\n",
      " |-- _c16: integer (nullable = true)\n",
      " |-- _c17: integer (nullable = true)\n",
      " |-- _c18: integer (nullable = true)\n",
      " |-- _c19: integer (nullable = true)\n",
      " |-- _c20: integer (nullable = true)\n",
      " |-- _c21: integer (nullable = true)\n",
      " |-- _c22: integer (nullable = true)\n",
      " |-- _c23: integer (nullable = true)\n",
      " |-- _c24: integer (nullable = true)\n",
      " |-- _c25: integer (nullable = true)\n",
      " |-- _c26: integer (nullable = true)\n",
      " |-- _c27: integer (nullable = true)\n",
      " |-- _c28: integer (nullable = true)\n",
      " |-- _c29: integer (nullable = true)\n",
      " |-- _c30: integer (nullable = true)\n",
      " |-- _c31: integer (nullable = true)\n",
      " |-- _c32: integer (nullable = true)\n",
      " |-- _c33: integer (nullable = true)\n",
      " |-- _c34: integer (nullable = true)\n",
      " |-- _c35: integer (nullable = true)\n",
      " |-- _c36: integer (nullable = true)\n",
      " |-- _c37: integer (nullable = true)\n",
      " |-- _c38: integer (nullable = true)\n",
      " |-- _c39: integer (nullable = true)\n",
      " |-- _c40: integer (nullable = true)\n",
      " |-- _c41: integer (nullable = true)\n",
      " |-- _c42: integer (nullable = true)\n",
      " |-- _c43: integer (nullable = true)\n",
      " |-- _c44: integer (nullable = true)\n",
      " |-- _c45: integer (nullable = true)\n",
      " |-- _c46: integer (nullable = true)\n",
      " |-- _c47: integer (nullable = true)\n",
      " |-- _c48: integer (nullable = true)\n",
      " |-- _c49: integer (nullable = true)\n",
      " |-- _c50: integer (nullable = true)\n",
      " |-- _c51: integer (nullable = true)\n",
      " |-- _c52: integer (nullable = true)\n",
      " |-- _c53: integer (nullable = true)\n",
      " |-- _c54: integer (nullable = true)\n",
      "\n"
     ]
    }
   ],
   "source": [
    "path= \"covtype.data\"\n",
    "data_without_header = spark.read.csv(path,header=False, inferSchema=True)\n",
    "data_without_header.printSchema()"
   ]
  },
  {
   "cell_type": "code",
   "execution_count": 4,
   "metadata": {},
   "outputs": [
    {
     "data": {
      "text/plain": [
       "Row(Elevation=2596, Aspect=51, Slope=3, Horizontal_Distance_To_Hydrology=258, Vertical_Distance_To_Hydrology=0, Horizontal_Distance_To_Roadways=510, Hillshade_9am=221, Hillshade_Noon=232, Hillshade_3pm=148, Horizontal_Distance_To_Fire_Points=6279, Wilderness_Area_0=1, Wilderness_Area_1=0, Wilderness_Area_2=0, Wilderness_Area_3=0, Soil_Type_0=0, Soil_Type_1=0, Soil_Type_2=0, Soil_Type_3=0, Soil_Type_4=0, Soil_Type_5=0, Soil_Type_6=0, Soil_Type_7=0, Soil_Type_8=0, Soil_Type_9=0, Soil_Type_10=0, Soil_Type_11=0, Soil_Type_12=0, Soil_Type_13=0, Soil_Type_14=0, Soil_Type_15=0, Soil_Type_16=0, Soil_Type_17=0, Soil_Type_18=0, Soil_Type_19=0, Soil_Type_20=0, Soil_Type_21=0, Soil_Type_22=0, Soil_Type_23=0, Soil_Type_24=0, Soil_Type_25=0, Soil_Type_26=0, Soil_Type_27=0, Soil_Type_28=1, Soil_Type_29=0, Soil_Type_30=0, Soil_Type_31=0, Soil_Type_32=0, Soil_Type_33=0, Soil_Type_34=0, Soil_Type_35=0, Soil_Type_36=0, Soil_Type_37=0, Soil_Type_38=0, Soil_Type_39=0, Cover_Type=5.0)"
      ]
     },
     "execution_count": 4,
     "metadata": {},
     "output_type": "execute_result"
    }
   ],
   "source": [
    "from pyspark.sql.types import DoubleType\n",
    "from pyspark.sql.functions import col\n",
    "colnames = [\"Elevation\", \"Aspect\", \"Slope\", \\\n",
    "\"Horizontal_Distance_To_Hydrology\", \\\n",
    "\"Vertical_Distance_To_Hydrology\", \"Horizontal_Distance_To_Roadways\",\n",
    "\\\n",
    "\"Hillshade_9am\", \"Hillshade_Noon\", \"Hillshade_3pm\", \\\n",
    "\"Horizontal_Distance_To_Fire_Points\"] + \\\n",
    "[f\"Wilderness_Area_{i}\" for i in range(4)] + \\\n",
    "[f\"Soil_Type_{i}\" for i in range(40)] + \\\n",
    "[\"Cover_Type\"]\n",
    "\n",
    "data = data_without_header.toDF(*colnames).withColumn(\"Cover_Type\",col(\"Cover_Type\").cast(DoubleType()))\n",
    "data.head()"
   ]
  },
  {
   "cell_type": "code",
   "execution_count": 5,
   "metadata": {},
   "outputs": [
    {
     "name": "stdout",
     "output_type": "stream",
     "text": [
      "Schema:\n",
      "root\n",
      " |-- Elevation: integer (nullable = true)\n",
      " |-- Aspect: integer (nullable = true)\n",
      " |-- Slope: integer (nullable = true)\n",
      " |-- Horizontal_Distance_To_Hydrology: integer (nullable = true)\n",
      " |-- Vertical_Distance_To_Hydrology: integer (nullable = true)\n",
      " |-- Horizontal_Distance_To_Roadways: integer (nullable = true)\n",
      " |-- Hillshade_9am: integer (nullable = true)\n",
      " |-- Hillshade_Noon: integer (nullable = true)\n",
      " |-- Hillshade_3pm: integer (nullable = true)\n",
      " |-- Horizontal_Distance_To_Fire_Points: integer (nullable = true)\n",
      " |-- Wilderness_Area_0: integer (nullable = true)\n",
      " |-- Wilderness_Area_1: integer (nullable = true)\n",
      " |-- Wilderness_Area_2: integer (nullable = true)\n",
      " |-- Wilderness_Area_3: integer (nullable = true)\n",
      " |-- Soil_Type_0: integer (nullable = true)\n",
      " |-- Soil_Type_1: integer (nullable = true)\n",
      " |-- Soil_Type_2: integer (nullable = true)\n",
      " |-- Soil_Type_3: integer (nullable = true)\n",
      " |-- Soil_Type_4: integer (nullable = true)\n",
      " |-- Soil_Type_5: integer (nullable = true)\n",
      " |-- Soil_Type_6: integer (nullable = true)\n",
      " |-- Soil_Type_7: integer (nullable = true)\n",
      " |-- Soil_Type_8: integer (nullable = true)\n",
      " |-- Soil_Type_9: integer (nullable = true)\n",
      " |-- Soil_Type_10: integer (nullable = true)\n",
      " |-- Soil_Type_11: integer (nullable = true)\n",
      " |-- Soil_Type_12: integer (nullable = true)\n",
      " |-- Soil_Type_13: integer (nullable = true)\n",
      " |-- Soil_Type_14: integer (nullable = true)\n",
      " |-- Soil_Type_15: integer (nullable = true)\n",
      " |-- Soil_Type_16: integer (nullable = true)\n",
      " |-- Soil_Type_17: integer (nullable = true)\n",
      " |-- Soil_Type_18: integer (nullable = true)\n",
      " |-- Soil_Type_19: integer (nullable = true)\n",
      " |-- Soil_Type_20: integer (nullable = true)\n",
      " |-- Soil_Type_21: integer (nullable = true)\n",
      " |-- Soil_Type_22: integer (nullable = true)\n",
      " |-- Soil_Type_23: integer (nullable = true)\n",
      " |-- Soil_Type_24: integer (nullable = true)\n",
      " |-- Soil_Type_25: integer (nullable = true)\n",
      " |-- Soil_Type_26: integer (nullable = true)\n",
      " |-- Soil_Type_27: integer (nullable = true)\n",
      " |-- Soil_Type_28: integer (nullable = true)\n",
      " |-- Soil_Type_29: integer (nullable = true)\n",
      " |-- Soil_Type_30: integer (nullable = true)\n",
      " |-- Soil_Type_31: integer (nullable = true)\n",
      " |-- Soil_Type_32: integer (nullable = true)\n",
      " |-- Soil_Type_33: integer (nullable = true)\n",
      " |-- Soil_Type_34: integer (nullable = true)\n",
      " |-- Soil_Type_35: integer (nullable = true)\n",
      " |-- Soil_Type_36: integer (nullable = true)\n",
      " |-- Soil_Type_37: integer (nullable = true)\n",
      " |-- Soil_Type_38: integer (nullable = true)\n",
      " |-- Soil_Type_39: integer (nullable = true)\n",
      " |-- Cover_Type: double (nullable = true)\n",
      "\n"
     ]
    }
   ],
   "source": [
    "print(\"Schema:\")\n",
    "data.printSchema()"
   ]
  },
  {
   "cell_type": "code",
   "execution_count": 6,
   "metadata": {},
   "outputs": [
    {
     "name": "stdout",
     "output_type": "stream",
     "text": [
      "No: of records\n"
     ]
    },
    {
     "data": {
      "text/plain": [
       "581012"
      ]
     },
     "execution_count": 6,
     "metadata": {},
     "output_type": "execute_result"
    }
   ],
   "source": [
    "print(\"No: of records\")\n",
    "data.count()"
   ]
  },
  {
   "cell_type": "code",
   "execution_count": 14,
   "metadata": {},
   "outputs": [
    {
     "name": "stdout",
     "output_type": "stream",
     "text": [
      "+-------+-----------------+------------------+------------------+--------------------------------+------------------------------+-------------------------------+------------------+------------------+------------------+----------------------------------+------------------+--------------------+-------------------+-------------------+--------------------+-------------------+--------------------+--------------------+--------------------+--------------------+--------------------+--------------------+--------------------+--------------------+-------------------+-------------------+--------------------+--------------------+--------------------+-------------------+--------------------+--------------------+--------------------+--------------------+--------------------+-------------------+-------------------+-------------------+--------------------+--------------------+--------------------+--------------------+-------------------+-------------------+-------------------+-------------------+-------------------+--------------------+--------------------+--------------------+--------------------+--------------------+-------------------+-------------------+------------------+\n",
      "|summary|        Elevation|            Aspect|             Slope|Horizontal_Distance_To_Hydrology|Vertical_Distance_To_Hydrology|Horizontal_Distance_To_Roadways|     Hillshade_9am|    Hillshade_Noon|     Hillshade_3pm|Horizontal_Distance_To_Fire_Points| Wilderness_Area_0|   Wilderness_Area_1|  Wilderness_Area_2|  Wilderness_Area_3|         Soil_Type_0|        Soil_Type_1|         Soil_Type_2|         Soil_Type_3|         Soil_Type_4|         Soil_Type_5|         Soil_Type_6|         Soil_Type_7|         Soil_Type_8|         Soil_Type_9|       Soil_Type_10|       Soil_Type_11|        Soil_Type_12|        Soil_Type_13|        Soil_Type_14|       Soil_Type_15|        Soil_Type_16|        Soil_Type_17|        Soil_Type_18|        Soil_Type_19|        Soil_Type_20|       Soil_Type_21|       Soil_Type_22|       Soil_Type_23|        Soil_Type_24|        Soil_Type_25|        Soil_Type_26|        Soil_Type_27|       Soil_Type_28|       Soil_Type_29|       Soil_Type_30|       Soil_Type_31|       Soil_Type_32|        Soil_Type_33|        Soil_Type_34|        Soil_Type_35|        Soil_Type_36|        Soil_Type_37|       Soil_Type_38|       Soil_Type_39|        Cover_Type|\n",
      "+-------+-----------------+------------------+------------------+--------------------------------+------------------------------+-------------------------------+------------------+------------------+------------------+----------------------------------+------------------+--------------------+-------------------+-------------------+--------------------+-------------------+--------------------+--------------------+--------------------+--------------------+--------------------+--------------------+--------------------+--------------------+-------------------+-------------------+--------------------+--------------------+--------------------+-------------------+--------------------+--------------------+--------------------+--------------------+--------------------+-------------------+-------------------+-------------------+--------------------+--------------------+--------------------+--------------------+-------------------+-------------------+-------------------+-------------------+-------------------+--------------------+--------------------+--------------------+--------------------+--------------------+-------------------+-------------------+------------------+\n",
      "|  count|           581012|            581012|            581012|                          581012|                        581012|                         581012|            581012|            581012|            581012|                            581012|            581012|              581012|             581012|             581012|              581012|             581012|              581012|              581012|              581012|              581012|              581012|              581012|              581012|              581012|             581012|             581012|              581012|              581012|              581012|             581012|              581012|              581012|              581012|              581012|              581012|             581012|             581012|             581012|              581012|              581012|              581012|              581012|             581012|             581012|             581012|             581012|             581012|              581012|              581012|              581012|              581012|              581012|             581012|             581012|            581012|\n",
      "|   mean|2959.365300544567|155.65680743254873|14.103703537964792|              269.42821662891646|            46.418855376481034|             2350.1466114297123|212.14604861861716|223.31871630878535|142.52826275533036|                1980.2912263430014|0.4488650836815763|0.051434393781884025| 0.4360736094951567|0.06362691304138296|0.005216759722690753|0.01295153972723455|0.008301033369362424|0.021335187569275677|0.002748652351414...|0.011316461622135171|1.807191589846681...|3.080831376976723...|0.001974141670051565|0.056167514612434855| 0.0213592834571403|0.05158413251361418|0.030001101526302382|0.001030959773636...|5.163404542419089E-6|0.00489662864106077|0.005889723448052708|0.003268435075351...|0.006920683221689053|0.015935987552752783|0.001442311002182399|0.05743943326471743|0.09939897971126242|0.03662230728453113|8.158179177022161E-4|0.004456018120107674|0.001869152444355...|0.001628193565709...|0.19835562776672427|0.05192663834826131|0.04417464699524278|0.09039228105443606|0.07771612290279718|0.002772748239279...|0.003254665996571...|2.048150468492905...|5.128981845469629E-4|0.026803232979697493|0.02376198770421265|0.01505992991538901| 2.051470537613681|\n",
      "| stddev|279.9847342506371|111.91372100329544| 7.488241814480139|              212.54935559508115|             58.29523162688723|             1559.2548698976084| 26.76988880528213|19.768697153666405| 38.27452923141059|                1324.1952097801075|0.4973787752982266|   0.220882278353401|0.49589700528224817|0.24408734404115698| 0.07203855962336306|0.11306555332463286| 0.09073114340173861| 0.14449925009498288| 0.05235553437289732|  0.1057753212014363|0.013441979413635834|0.017549608330903396| 0.04438747374857372| 0.23024512189599608|0.14457904566150795|0.22118610713609077|  0.1705904027792983| 0.03209203434149953|0.002272308686899177|0.06980444151712224| 0.07651826372232713| 0.05707677298648149| 0.08290234733979654| 0.12522802739167171| 0.03795040474080564|0.23268054915182676|0.29919722027093215|0.18783283689852426|0.028550897740997946| 0.06660457685375018| 0.04319330879373808|0.040318052398458246|0.39876176644617517|0.22187912770284737|0.20548313855427747| 0.2867431918891414|0.26772457957496393|  0.0525838840856219| 0.05695681459947709| 0.01430990741020341| 0.02264146643472847|  0.1615080944631041|0.15230691241832534|0.12179143630071344|1.3965043160794064|\n",
      "|    min|             1859|                 0|                 0|                               0|                          -173|                              0|                 0|                 0|                 0|                                 0|                 0|                   0|                  0|                  0|                   0|                  0|                   0|                   0|                   0|                   0|                   0|                   0|                   0|                   0|                  0|                  0|                   0|                   0|                   0|                  0|                   0|                   0|                   0|                   0|                   0|                  0|                  0|                  0|                   0|                   0|                   0|                   0|                  0|                  0|                  0|                  0|                  0|                   0|                   0|                   0|                   0|                   0|                  0|                  0|               1.0|\n",
      "|    max|             3858|               360|                66|                            1397|                           601|                           7117|               254|               254|               254|                              7173|                 1|                   1|                  1|                  1|                   1|                  1|                   1|                   1|                   1|                   1|                   1|                   1|                   1|                   1|                  1|                  1|                   1|                   1|                   1|                  1|                   1|                   1|                   1|                   1|                   1|                  1|                  1|                  1|                   1|                   1|                   1|                   1|                  1|                  1|                  1|                  1|                  1|                   1|                   1|                   1|                   1|                   1|                  1|                  1|               7.0|\n",
      "+-------+-----------------+------------------+------------------+--------------------------------+------------------------------+-------------------------------+------------------+------------------+------------------+----------------------------------+------------------+--------------------+-------------------+-------------------+--------------------+-------------------+--------------------+--------------------+--------------------+--------------------+--------------------+--------------------+--------------------+--------------------+-------------------+-------------------+--------------------+--------------------+--------------------+-------------------+--------------------+--------------------+--------------------+--------------------+--------------------+-------------------+-------------------+-------------------+--------------------+--------------------+--------------------+--------------------+-------------------+-------------------+-------------------+-------------------+-------------------+--------------------+--------------------+--------------------+--------------------+--------------------+-------------------+-------------------+------------------+\n",
      "\n",
      "Data summary and statistics None\n"
     ]
    }
   ],
   "source": [
    "print(\"Data summary and statistics\",data.describe().show())\n"
   ]
  },
  {
   "cell_type": "markdown",
   "metadata": {},
   "source": [
    "2. Implement a PySpark script to handle missing values and categorical features in the\n",
    "dataset."
   ]
  },
  {
   "cell_type": "code",
   "execution_count": 11,
   "metadata": {},
   "outputs": [],
   "source": [
    "from pyspark.ml.feature import Imputer, StringIndexer, VectorAssembler"
   ]
  },
  {
   "cell_type": "code",
   "execution_count": 15,
   "metadata": {},
   "outputs": [
    {
     "name": "stdout",
     "output_type": "stream",
     "text": [
      "Number of rows:  581012\n",
      "Number of columns:  110\n",
      "Schema:\n",
      "root\n",
      " |-- Elevation: integer (nullable = true)\n",
      " |-- Aspect: integer (nullable = true)\n",
      " |-- Slope: integer (nullable = true)\n",
      " |-- Horizontal_Distance_To_Hydrology: integer (nullable = true)\n",
      " |-- Vertical_Distance_To_Hydrology: integer (nullable = true)\n",
      " |-- Horizontal_Distance_To_Roadways: integer (nullable = true)\n",
      " |-- Hillshade_9am: integer (nullable = true)\n",
      " |-- Hillshade_Noon: integer (nullable = true)\n",
      " |-- Hillshade_3pm: integer (nullable = true)\n",
      " |-- Horizontal_Distance_To_Fire_Points: integer (nullable = true)\n",
      " |-- Wilderness_Area_0: integer (nullable = true)\n",
      " |-- Wilderness_Area_1: integer (nullable = true)\n",
      " |-- Wilderness_Area_2: integer (nullable = true)\n",
      " |-- Wilderness_Area_3: integer (nullable = true)\n",
      " |-- Soil_Type_0: integer (nullable = true)\n",
      " |-- Soil_Type_1: integer (nullable = true)\n",
      " |-- Soil_Type_2: integer (nullable = true)\n",
      " |-- Soil_Type_3: integer (nullable = true)\n",
      " |-- Soil_Type_4: integer (nullable = true)\n",
      " |-- Soil_Type_5: integer (nullable = true)\n",
      " |-- Soil_Type_6: integer (nullable = true)\n",
      " |-- Soil_Type_7: integer (nullable = true)\n",
      " |-- Soil_Type_8: integer (nullable = true)\n",
      " |-- Soil_Type_9: integer (nullable = true)\n",
      " |-- Soil_Type_10: integer (nullable = true)\n",
      " |-- Soil_Type_11: integer (nullable = true)\n",
      " |-- Soil_Type_12: integer (nullable = true)\n",
      " |-- Soil_Type_13: integer (nullable = true)\n",
      " |-- Soil_Type_14: integer (nullable = true)\n",
      " |-- Soil_Type_15: integer (nullable = true)\n",
      " |-- Soil_Type_16: integer (nullable = true)\n",
      " |-- Soil_Type_17: integer (nullable = true)\n",
      " |-- Soil_Type_18: integer (nullable = true)\n",
      " |-- Soil_Type_19: integer (nullable = true)\n",
      " |-- Soil_Type_20: integer (nullable = true)\n",
      " |-- Soil_Type_21: integer (nullable = true)\n",
      " |-- Soil_Type_22: integer (nullable = true)\n",
      " |-- Soil_Type_23: integer (nullable = true)\n",
      " |-- Soil_Type_24: integer (nullable = true)\n",
      " |-- Soil_Type_25: integer (nullable = true)\n",
      " |-- Soil_Type_26: integer (nullable = true)\n",
      " |-- Soil_Type_27: integer (nullable = true)\n",
      " |-- Soil_Type_28: integer (nullable = true)\n",
      " |-- Soil_Type_29: integer (nullable = true)\n",
      " |-- Soil_Type_30: integer (nullable = true)\n",
      " |-- Soil_Type_31: integer (nullable = true)\n",
      " |-- Soil_Type_32: integer (nullable = true)\n",
      " |-- Soil_Type_33: integer (nullable = true)\n",
      " |-- Soil_Type_34: integer (nullable = true)\n",
      " |-- Soil_Type_35: integer (nullable = true)\n",
      " |-- Soil_Type_36: integer (nullable = true)\n",
      " |-- Soil_Type_37: integer (nullable = true)\n",
      " |-- Soil_Type_38: integer (nullable = true)\n",
      " |-- Soil_Type_39: integer (nullable = true)\n",
      " |-- Cover_Type: double (nullable = true)\n",
      " |-- Elevation_imputed: integer (nullable = true)\n",
      " |-- Aspect_imputed: integer (nullable = true)\n",
      " |-- Slope_imputed: integer (nullable = true)\n",
      " |-- Horizontal_Distance_To_Hydrology_imputed: integer (nullable = true)\n",
      " |-- Vertical_Distance_To_Hydrology_imputed: integer (nullable = true)\n",
      " |-- Horizontal_Distance_To_Roadways_imputed: integer (nullable = true)\n",
      " |-- Hillshade_9am_imputed: integer (nullable = true)\n",
      " |-- Hillshade_Noon_imputed: integer (nullable = true)\n",
      " |-- Hillshade_3pm_imputed: integer (nullable = true)\n",
      " |-- Horizontal_Distance_To_Fire_Points_imputed: integer (nullable = true)\n",
      " |-- Wilderness_Area_0_imputed: integer (nullable = true)\n",
      " |-- Wilderness_Area_1_imputed: integer (nullable = true)\n",
      " |-- Wilderness_Area_2_imputed: integer (nullable = true)\n",
      " |-- Wilderness_Area_3_imputed: integer (nullable = true)\n",
      " |-- Soil_Type_0_imputed: integer (nullable = true)\n",
      " |-- Soil_Type_1_imputed: integer (nullable = true)\n",
      " |-- Soil_Type_2_imputed: integer (nullable = true)\n",
      " |-- Soil_Type_3_imputed: integer (nullable = true)\n",
      " |-- Soil_Type_4_imputed: integer (nullable = true)\n",
      " |-- Soil_Type_5_imputed: integer (nullable = true)\n",
      " |-- Soil_Type_6_imputed: integer (nullable = true)\n",
      " |-- Soil_Type_7_imputed: integer (nullable = true)\n",
      " |-- Soil_Type_8_imputed: integer (nullable = true)\n",
      " |-- Soil_Type_9_imputed: integer (nullable = true)\n",
      " |-- Soil_Type_10_imputed: integer (nullable = true)\n",
      " |-- Soil_Type_11_imputed: integer (nullable = true)\n",
      " |-- Soil_Type_12_imputed: integer (nullable = true)\n",
      " |-- Soil_Type_13_imputed: integer (nullable = true)\n",
      " |-- Soil_Type_14_imputed: integer (nullable = true)\n",
      " |-- Soil_Type_15_imputed: integer (nullable = true)\n",
      " |-- Soil_Type_16_imputed: integer (nullable = true)\n",
      " |-- Soil_Type_17_imputed: integer (nullable = true)\n",
      " |-- Soil_Type_18_imputed: integer (nullable = true)\n",
      " |-- Soil_Type_19_imputed: integer (nullable = true)\n",
      " |-- Soil_Type_20_imputed: integer (nullable = true)\n",
      " |-- Soil_Type_21_imputed: integer (nullable = true)\n",
      " |-- Soil_Type_22_imputed: integer (nullable = true)\n",
      " |-- Soil_Type_23_imputed: integer (nullable = true)\n",
      " |-- Soil_Type_24_imputed: integer (nullable = true)\n",
      " |-- Soil_Type_25_imputed: integer (nullable = true)\n",
      " |-- Soil_Type_26_imputed: integer (nullable = true)\n",
      " |-- Soil_Type_27_imputed: integer (nullable = true)\n",
      " |-- Soil_Type_28_imputed: integer (nullable = true)\n",
      " |-- Soil_Type_29_imputed: integer (nullable = true)\n",
      " |-- Soil_Type_30_imputed: integer (nullable = true)\n",
      " |-- Soil_Type_31_imputed: integer (nullable = true)\n",
      " |-- Soil_Type_32_imputed: integer (nullable = true)\n",
      " |-- Soil_Type_33_imputed: integer (nullable = true)\n",
      " |-- Soil_Type_34_imputed: integer (nullable = true)\n",
      " |-- Soil_Type_35_imputed: integer (nullable = true)\n",
      " |-- Soil_Type_36_imputed: integer (nullable = true)\n",
      " |-- Soil_Type_37_imputed: integer (nullable = true)\n",
      " |-- Soil_Type_38_imputed: integer (nullable = true)\n",
      " |-- Soil_Type_39_imputed: integer (nullable = true)\n",
      " |-- Cover_Type_imputed: double (nullable = true)\n",
      "\n",
      "First few rows:\n",
      "+---------+------+-----+--------------------------------+------------------------------+-------------------------------+-------------+--------------+-------------+----------------------------------+-----------------+-----------------+-----------------+-----------------+-----------+-----------+-----------+-----------+-----------+-----------+-----------+-----------+-----------+-----------+------------+------------+------------+------------+------------+------------+------------+------------+------------+------------+------------+------------+------------+------------+------------+------------+------------+------------+------------+------------+------------+------------+------------+------------+------------+------------+------------+------------+------------+------------+----------+-----------------+--------------+-------------+----------------------------------------+--------------------------------------+---------------------------------------+---------------------+----------------------+---------------------+------------------------------------------+-------------------------+-------------------------+-------------------------+-------------------------+-------------------+-------------------+-------------------+-------------------+-------------------+-------------------+-------------------+-------------------+-------------------+-------------------+--------------------+--------------------+--------------------+--------------------+--------------------+--------------------+--------------------+--------------------+--------------------+--------------------+--------------------+--------------------+--------------------+--------------------+--------------------+--------------------+--------------------+--------------------+--------------------+--------------------+--------------------+--------------------+--------------------+--------------------+--------------------+--------------------+--------------------+--------------------+--------------------+--------------------+------------------+\n",
      "|Elevation|Aspect|Slope|Horizontal_Distance_To_Hydrology|Vertical_Distance_To_Hydrology|Horizontal_Distance_To_Roadways|Hillshade_9am|Hillshade_Noon|Hillshade_3pm|Horizontal_Distance_To_Fire_Points|Wilderness_Area_0|Wilderness_Area_1|Wilderness_Area_2|Wilderness_Area_3|Soil_Type_0|Soil_Type_1|Soil_Type_2|Soil_Type_3|Soil_Type_4|Soil_Type_5|Soil_Type_6|Soil_Type_7|Soil_Type_8|Soil_Type_9|Soil_Type_10|Soil_Type_11|Soil_Type_12|Soil_Type_13|Soil_Type_14|Soil_Type_15|Soil_Type_16|Soil_Type_17|Soil_Type_18|Soil_Type_19|Soil_Type_20|Soil_Type_21|Soil_Type_22|Soil_Type_23|Soil_Type_24|Soil_Type_25|Soil_Type_26|Soil_Type_27|Soil_Type_28|Soil_Type_29|Soil_Type_30|Soil_Type_31|Soil_Type_32|Soil_Type_33|Soil_Type_34|Soil_Type_35|Soil_Type_36|Soil_Type_37|Soil_Type_38|Soil_Type_39|Cover_Type|Elevation_imputed|Aspect_imputed|Slope_imputed|Horizontal_Distance_To_Hydrology_imputed|Vertical_Distance_To_Hydrology_imputed|Horizontal_Distance_To_Roadways_imputed|Hillshade_9am_imputed|Hillshade_Noon_imputed|Hillshade_3pm_imputed|Horizontal_Distance_To_Fire_Points_imputed|Wilderness_Area_0_imputed|Wilderness_Area_1_imputed|Wilderness_Area_2_imputed|Wilderness_Area_3_imputed|Soil_Type_0_imputed|Soil_Type_1_imputed|Soil_Type_2_imputed|Soil_Type_3_imputed|Soil_Type_4_imputed|Soil_Type_5_imputed|Soil_Type_6_imputed|Soil_Type_7_imputed|Soil_Type_8_imputed|Soil_Type_9_imputed|Soil_Type_10_imputed|Soil_Type_11_imputed|Soil_Type_12_imputed|Soil_Type_13_imputed|Soil_Type_14_imputed|Soil_Type_15_imputed|Soil_Type_16_imputed|Soil_Type_17_imputed|Soil_Type_18_imputed|Soil_Type_19_imputed|Soil_Type_20_imputed|Soil_Type_21_imputed|Soil_Type_22_imputed|Soil_Type_23_imputed|Soil_Type_24_imputed|Soil_Type_25_imputed|Soil_Type_26_imputed|Soil_Type_27_imputed|Soil_Type_28_imputed|Soil_Type_29_imputed|Soil_Type_30_imputed|Soil_Type_31_imputed|Soil_Type_32_imputed|Soil_Type_33_imputed|Soil_Type_34_imputed|Soil_Type_35_imputed|Soil_Type_36_imputed|Soil_Type_37_imputed|Soil_Type_38_imputed|Soil_Type_39_imputed|Cover_Type_imputed|\n",
      "+---------+------+-----+--------------------------------+------------------------------+-------------------------------+-------------+--------------+-------------+----------------------------------+-----------------+-----------------+-----------------+-----------------+-----------+-----------+-----------+-----------+-----------+-----------+-----------+-----------+-----------+-----------+------------+------------+------------+------------+------------+------------+------------+------------+------------+------------+------------+------------+------------+------------+------------+------------+------------+------------+------------+------------+------------+------------+------------+------------+------------+------------+------------+------------+------------+------------+----------+-----------------+--------------+-------------+----------------------------------------+--------------------------------------+---------------------------------------+---------------------+----------------------+---------------------+------------------------------------------+-------------------------+-------------------------+-------------------------+-------------------------+-------------------+-------------------+-------------------+-------------------+-------------------+-------------------+-------------------+-------------------+-------------------+-------------------+--------------------+--------------------+--------------------+--------------------+--------------------+--------------------+--------------------+--------------------+--------------------+--------------------+--------------------+--------------------+--------------------+--------------------+--------------------+--------------------+--------------------+--------------------+--------------------+--------------------+--------------------+--------------------+--------------------+--------------------+--------------------+--------------------+--------------------+--------------------+--------------------+--------------------+------------------+\n",
      "|     2596|    51|    3|                             258|                             0|                            510|          221|           232|          148|                              6279|                1|                0|                0|                0|          0|          0|          0|          0|          0|          0|          0|          0|          0|          0|           0|           0|           0|           0|           0|           0|           0|           0|           0|           0|           0|           0|           0|           0|           0|           0|           0|           0|           1|           0|           0|           0|           0|           0|           0|           0|           0|           0|           0|           0|       5.0|             2596|            51|            3|                                     258|                                     0|                                    510|                  221|                   232|                  148|                                      6279|                        1|                        0|                        0|                        0|                  0|                  0|                  0|                  0|                  0|                  0|                  0|                  0|                  0|                  0|                   0|                   0|                   0|                   0|                   0|                   0|                   0|                   0|                   0|                   0|                   0|                   0|                   0|                   0|                   0|                   0|                   0|                   0|                   1|                   0|                   0|                   0|                   0|                   0|                   0|                   0|                   0|                   0|                   0|                   0|               5.0|\n",
      "|     2590|    56|    2|                             212|                            -6|                            390|          220|           235|          151|                              6225|                1|                0|                0|                0|          0|          0|          0|          0|          0|          0|          0|          0|          0|          0|           0|           0|           0|           0|           0|           0|           0|           0|           0|           0|           0|           0|           0|           0|           0|           0|           0|           0|           1|           0|           0|           0|           0|           0|           0|           0|           0|           0|           0|           0|       5.0|             2590|            56|            2|                                     212|                                    -6|                                    390|                  220|                   235|                  151|                                      6225|                        1|                        0|                        0|                        0|                  0|                  0|                  0|                  0|                  0|                  0|                  0|                  0|                  0|                  0|                   0|                   0|                   0|                   0|                   0|                   0|                   0|                   0|                   0|                   0|                   0|                   0|                   0|                   0|                   0|                   0|                   0|                   0|                   1|                   0|                   0|                   0|                   0|                   0|                   0|                   0|                   0|                   0|                   0|                   0|               5.0|\n",
      "|     2804|   139|    9|                             268|                            65|                           3180|          234|           238|          135|                              6121|                1|                0|                0|                0|          0|          0|          0|          0|          0|          0|          0|          0|          0|          0|           0|           1|           0|           0|           0|           0|           0|           0|           0|           0|           0|           0|           0|           0|           0|           0|           0|           0|           0|           0|           0|           0|           0|           0|           0|           0|           0|           0|           0|           0|       2.0|             2804|           139|            9|                                     268|                                    65|                                   3180|                  234|                   238|                  135|                                      6121|                        1|                        0|                        0|                        0|                  0|                  0|                  0|                  0|                  0|                  0|                  0|                  0|                  0|                  0|                   0|                   1|                   0|                   0|                   0|                   0|                   0|                   0|                   0|                   0|                   0|                   0|                   0|                   0|                   0|                   0|                   0|                   0|                   0|                   0|                   0|                   0|                   0|                   0|                   0|                   0|                   0|                   0|                   0|                   0|               2.0|\n",
      "|     2785|   155|   18|                             242|                           118|                           3090|          238|           238|          122|                              6211|                1|                0|                0|                0|          0|          0|          0|          0|          0|          0|          0|          0|          0|          0|           0|           0|           0|           0|           0|           0|           0|           0|           0|           0|           0|           0|           0|           0|           0|           0|           0|           0|           0|           1|           0|           0|           0|           0|           0|           0|           0|           0|           0|           0|       2.0|             2785|           155|           18|                                     242|                                   118|                                   3090|                  238|                   238|                  122|                                      6211|                        1|                        0|                        0|                        0|                  0|                  0|                  0|                  0|                  0|                  0|                  0|                  0|                  0|                  0|                   0|                   0|                   0|                   0|                   0|                   0|                   0|                   0|                   0|                   0|                   0|                   0|                   0|                   0|                   0|                   0|                   0|                   0|                   0|                   1|                   0|                   0|                   0|                   0|                   0|                   0|                   0|                   0|                   0|                   0|               2.0|\n",
      "|     2595|    45|    2|                             153|                            -1|                            391|          220|           234|          150|                              6172|                1|                0|                0|                0|          0|          0|          0|          0|          0|          0|          0|          0|          0|          0|           0|           0|           0|           0|           0|           0|           0|           0|           0|           0|           0|           0|           0|           0|           0|           0|           0|           0|           1|           0|           0|           0|           0|           0|           0|           0|           0|           0|           0|           0|       5.0|             2595|            45|            2|                                     153|                                    -1|                                    391|                  220|                   234|                  150|                                      6172|                        1|                        0|                        0|                        0|                  0|                  0|                  0|                  0|                  0|                  0|                  0|                  0|                  0|                  0|                   0|                   0|                   0|                   0|                   0|                   0|                   0|                   0|                   0|                   0|                   0|                   0|                   0|                   0|                   0|                   0|                   0|                   0|                   1|                   0|                   0|                   0|                   0|                   0|                   0|                   0|                   0|                   0|                   0|                   0|               5.0|\n",
      "+---------+------+-----+--------------------------------+------------------------------+-------------------------------+-------------+--------------+-------------+----------------------------------+-----------------+-----------------+-----------------+-----------------+-----------+-----------+-----------+-----------+-----------+-----------+-----------+-----------+-----------+-----------+------------+------------+------------+------------+------------+------------+------------+------------+------------+------------+------------+------------+------------+------------+------------+------------+------------+------------+------------+------------+------------+------------+------------+------------+------------+------------+------------+------------+------------+------------+----------+-----------------+--------------+-------------+----------------------------------------+--------------------------------------+---------------------------------------+---------------------+----------------------+---------------------+------------------------------------------+-------------------------+-------------------------+-------------------------+-------------------------+-------------------+-------------------+-------------------+-------------------+-------------------+-------------------+-------------------+-------------------+-------------------+-------------------+--------------------+--------------------+--------------------+--------------------+--------------------+--------------------+--------------------+--------------------+--------------------+--------------------+--------------------+--------------------+--------------------+--------------------+--------------------+--------------------+--------------------+--------------------+--------------------+--------------------+--------------------+--------------------+--------------------+--------------------+--------------------+--------------------+--------------------+--------------------+--------------------+--------------------+------------------+\n",
      "only showing top 5 rows\n",
      "\n"
     ]
    }
   ],
   "source": [
    "imputer = Imputer(strategy=\"mean\", missingValue=float('nan'), inputCols=data.columns, outputCols=[col+\"_imputed\" for col in data.columns])\n",
    "data_imputed = imputer.fit(data).transform(data)\n",
    "\n",
    "# Handle categorical features by encoding them\n",
    "categorical_columns = [col for (col, dtype) in data_imputed.dtypes if dtype == \"string\"]\n",
    "indexers = [StringIndexer(inputCol=col, outputCol=col+\"_index\").fit(data_imputed) for col in categorical_columns]\n",
    "data_indexed = data_imputed\n",
    "for indexer in indexers:\n",
    "    data_indexed = indexer.transform(data_indexed)\n",
    "\n",
    "# Basic statistics and information about the cleaned dataset\n",
    "print(\"Number of rows: \", data_indexed.count())\n",
    "print(\"Number of columns: \", len(data_indexed.columns))\n",
    "print(\"Schema:\")\n",
    "data_indexed.printSchema()\n",
    "print(\"First few rows:\")\n",
    "data_indexed.show(5)\n"
   ]
  },
  {
   "cell_type": "markdown",
   "metadata": {},
   "source": [
    "3. Develop a PySpark script that trains a decision tree model on the training dataset."
   ]
  },
  {
   "cell_type": "code",
   "execution_count": 16,
   "metadata": {},
   "outputs": [
    {
     "data": {
      "text/plain": [
       "DataFrame[Elevation: int, Aspect: int, Slope: int, Horizontal_Distance_To_Hydrology: int, Vertical_Distance_To_Hydrology: int, Horizontal_Distance_To_Roadways: int, Hillshade_9am: int, Hillshade_Noon: int, Hillshade_3pm: int, Horizontal_Distance_To_Fire_Points: int, Wilderness_Area_0: int, Wilderness_Area_1: int, Wilderness_Area_2: int, Wilderness_Area_3: int, Soil_Type_0: int, Soil_Type_1: int, Soil_Type_2: int, Soil_Type_3: int, Soil_Type_4: int, Soil_Type_5: int, Soil_Type_6: int, Soil_Type_7: int, Soil_Type_8: int, Soil_Type_9: int, Soil_Type_10: int, Soil_Type_11: int, Soil_Type_12: int, Soil_Type_13: int, Soil_Type_14: int, Soil_Type_15: int, Soil_Type_16: int, Soil_Type_17: int, Soil_Type_18: int, Soil_Type_19: int, Soil_Type_20: int, Soil_Type_21: int, Soil_Type_22: int, Soil_Type_23: int, Soil_Type_24: int, Soil_Type_25: int, Soil_Type_26: int, Soil_Type_27: int, Soil_Type_28: int, Soil_Type_29: int, Soil_Type_30: int, Soil_Type_31: int, Soil_Type_32: int, Soil_Type_33: int, Soil_Type_34: int, Soil_Type_35: int, Soil_Type_36: int, Soil_Type_37: int, Soil_Type_38: int, Soil_Type_39: int, Cover_Type: double]"
      ]
     },
     "execution_count": 16,
     "metadata": {},
     "output_type": "execute_result"
    }
   ],
   "source": [
    "(train_data, test_data) = data.randomSplit([0.9, 0.1])\n",
    "train_data.cache()\n",
    "test_data.cache()"
   ]
  },
  {
   "cell_type": "code",
   "execution_count": 17,
   "metadata": {},
   "outputs": [],
   "source": [
    "from pyspark.ml.feature import VectorAssembler"
   ]
  },
  {
   "cell_type": "code",
   "execution_count": 18,
   "metadata": {},
   "outputs": [
    {
     "name": "stdout",
     "output_type": "stream",
     "text": [
      "+-----------------------------------------------------------------------------------------------------+\n",
      "|featureVector                                                                                        |\n",
      "+-----------------------------------------------------------------------------------------------------+\n",
      "|(54,[0,1,2,3,4,5,6,7,8,9,13,15],[1863.0,37.0,17.0,120.0,18.0,90.0,217.0,202.0,115.0,769.0,1.0,1.0])  |\n",
      "|(54,[0,1,2,5,6,7,8,9,13,18],[1874.0,18.0,14.0,90.0,208.0,209.0,135.0,793.0,1.0,1.0])                 |\n",
      "|(54,[0,1,2,3,4,5,6,7,8,9,13,15],[1888.0,33.0,22.0,150.0,46.0,108.0,209.0,185.0,103.0,735.0,1.0,1.0]) |\n",
      "|(54,[0,1,2,3,4,5,6,7,8,9,13,14],[1889.0,28.0,22.0,150.0,23.0,120.0,205.0,185.0,108.0,759.0,1.0,1.0]) |\n",
      "|(54,[0,1,2,3,4,5,6,7,8,9,13,18],[1889.0,353.0,30.0,95.0,39.0,67.0,153.0,172.0,146.0,600.0,1.0,1.0])  |\n",
      "|(54,[0,1,2,3,4,5,6,7,8,9,13,18],[1896.0,337.0,12.0,30.0,6.0,175.0,195.0,224.0,168.0,732.0,1.0,1.0])  |\n",
      "|(54,[0,1,2,3,4,5,6,7,8,9,13,15],[1898.0,34.0,23.0,175.0,56.0,134.0,210.0,184.0,99.0,765.0,1.0,1.0])  |\n",
      "|(54,[0,1,2,3,4,5,6,7,8,9,13,18],[1899.0,355.0,22.0,153.0,43.0,124.0,178.0,195.0,151.0,819.0,1.0,1.0])|\n",
      "|(54,[0,1,2,3,4,5,6,7,8,9,13,14],[1901.0,311.0,9.0,30.0,2.0,190.0,195.0,234.0,179.0,726.0,1.0,1.0])   |\n",
      "|(54,[0,1,2,3,4,5,6,7,8,9,13,14],[1903.0,5.0,13.0,42.0,4.0,201.0,203.0,214.0,148.0,708.0,1.0,1.0])    |\n",
      "|(54,[0,1,2,3,4,5,6,7,8,9,13,16],[1903.0,67.0,16.0,108.0,36.0,120.0,234.0,207.0,100.0,969.0,1.0,1.0]) |\n",
      "|(54,[0,1,2,3,4,5,6,7,8,9,13,14],[1904.0,51.0,26.0,67.0,30.0,162.0,222.0,175.0,72.0,711.0,1.0,1.0])   |\n",
      "|(54,[0,1,2,3,4,5,6,7,8,9,13,14],[1905.0,33.0,27.0,90.0,46.0,150.0,204.0,171.0,89.0,725.0,1.0,1.0])   |\n",
      "|(54,[0,1,2,3,4,5,6,7,8,9,13,16],[1905.0,77.0,21.0,90.0,38.0,120.0,241.0,196.0,75.0,1025.0,1.0,1.0])  |\n",
      "|(54,[0,1,2,3,4,5,6,7,8,9,13,15],[1906.0,356.0,20.0,150.0,55.0,120.0,184.0,201.0,151.0,726.0,1.0,1.0])|\n",
      "|(54,[0,1,2,3,4,5,6,7,8,9,13,18],[1908.0,323.0,32.0,150.0,52.0,120.0,125.0,190.0,196.0,765.0,1.0,1.0])|\n",
      "|(54,[0,1,2,3,4,5,6,7,8,9,13,15],[1916.0,24.0,25.0,212.0,74.0,175.0,197.0,177.0,105.0,789.0,1.0,1.0]) |\n",
      "|(54,[0,1,2,3,4,5,6,7,8,9,13,18],[1916.0,320.0,24.0,190.0,60.0,162.0,151.0,210.0,195.0,832.0,1.0,1.0])|\n",
      "|(54,[0,1,2,3,4,5,6,7,8,9,13,23],[1918.0,321.0,28.0,42.0,17.0,85.0,139.0,201.0,196.0,402.0,1.0,1.0])  |\n",
      "|(54,[0,1,2,3,4,5,6,7,8,9,13,14],[1919.0,30.0,22.0,67.0,9.0,256.0,208.0,188.0,107.0,661.0,1.0,1.0])   |\n",
      "+-----------------------------------------------------------------------------------------------------+\n",
      "only showing top 20 rows\n",
      "\n"
     ]
    }
   ],
   "source": [
    "input_cols = colnames[:-1]\n",
    "vector_assembler = VectorAssembler(inputCols=input_cols,outputCol=\"featureVector\")\n",
    "assembled_train_data = vector_assembler.transform(train_data)\n",
    "assembled_train_data.select(\"featureVector\").show(truncate = False)"
   ]
  },
  {
   "cell_type": "code",
   "execution_count": 19,
   "metadata": {},
   "outputs": [],
   "source": [
    "from pyspark.ml.classification import DecisionTreeClassifier"
   ]
  },
  {
   "cell_type": "code",
   "execution_count": 20,
   "metadata": {},
   "outputs": [
    {
     "name": "stdout",
     "output_type": "stream",
     "text": [
      "DecisionTreeClassificationModel: uid=DecisionTreeClassifier_d7abf6c0dc21, depth=5, numNodes=45, numClasses=8, numFeatures=54\n",
      "  If (feature 0 <= 3048.5)\n",
      "   If (feature 0 <= 2500.5)\n",
      "    If (feature 3 <= 15.0)\n",
      "     If (feature 12 <= 0.5)\n",
      "      If (feature 23 <= 0.5)\n",
      "       Predict: 4.0\n",
      "      Else (feature 23 > 0.5)\n",
      "       Predict: 3.0\n",
      "     Else (feature 12 > 0.5)\n",
      "      Predict: 6.0\n",
      "    Else (feature 3 > 15.0)\n",
      "     If (feature 16 <= 0.5)\n",
      "      Predict: 3.0\n",
      "     Else (feature 16 > 0.5)\n",
      "      If (feature 9 <= 1305.5)\n",
      "       Predict: 3.0\n",
      "      Else (feature 9 > 1305.5)\n",
      "       Predict: 4.0\n",
      "   Else (feature 0 > 2500.5)\n",
      "    If (feature 17 <= 0.5)\n",
      "     If (feature 0 <= 2952.5)\n",
      "      If (feature 15 <= 0.5)\n",
      "       Predict: 2.0\n",
      "      Else (feature 15 > 0.5)\n",
      "       Predict: 3.0\n",
      "     Else (feature 0 > 2952.5)\n",
      "      Predict: 2.0\n",
      "    Else (feature 17 > 0.5)\n",
      "     If (feature 0 <= 2711.5)\n",
      "      Predict: 3.0\n",
      "     Else (feature 0 > 2711.5)\n",
      "      If (feature 5 <= 1259.5)\n",
      "       Predict: 5.0\n",
      "      Else (feature 5 > 1259.5)\n",
      "       Predict: 2.0\n",
      "  Else (feature 0 > 3048.5)\n",
      "   If (feature 0 <= 3313.5)\n",
      "    If (feature 7 <= 240.5)\n",
      "     Predict: 1.0\n",
      "    Else (feature 7 > 240.5)\n",
      "     If (feature 3 <= 327.0)\n",
      "      If (feature 0 <= 3182.5)\n",
      "       Predict: 2.0\n",
      "      Else (feature 0 > 3182.5)\n",
      "       Predict: 1.0\n",
      "     Else (feature 3 > 327.0)\n",
      "      If (feature 0 <= 3224.5)\n",
      "       Predict: 2.0\n",
      "      Else (feature 0 > 3224.5)\n",
      "       Predict: 1.0\n",
      "   Else (feature 0 > 3313.5)\n",
      "    If (feature 12 <= 0.5)\n",
      "     If (feature 3 <= 284.0)\n",
      "      If (feature 6 <= 205.5)\n",
      "       Predict: 1.0\n",
      "      Else (feature 6 > 205.5)\n",
      "       Predict: 7.0\n",
      "     Else (feature 3 > 284.0)\n",
      "      Predict: 1.0\n",
      "    Else (feature 12 > 0.5)\n",
      "     If (feature 45 <= 0.5)\n",
      "      Predict: 7.0\n",
      "     Else (feature 45 > 0.5)\n",
      "      If (feature 5 <= 937.5)\n",
      "       Predict: 7.0\n",
      "      Else (feature 5 > 937.5)\n",
      "       Predict: 1.0\n",
      "\n"
     ]
    }
   ],
   "source": [
    "classifier = DecisionTreeClassifier(seed = 1234, labelCol=\"Cover_Type\",\n",
    "featuresCol=\"featureVector\",\n",
    "predictionCol=\"prediction\")\n",
    "model = classifier.fit(assembled_train_data)\n",
    "print(model.toDebugString)"
   ]
  },
  {
   "cell_type": "markdown",
   "metadata": {},
   "source": [
    "4. Implement code to evaluate the decision tree model using metrics such as accuracy,\n",
    "precision, and recall."
   ]
  },
  {
   "cell_type": "code",
   "execution_count": 21,
   "metadata": {},
   "outputs": [
    {
     "name": "stdout",
     "output_type": "stream",
     "text": [
      "+----------+----------+----------------------------------------------------------------------------------------------------------------------------------+\n",
      "|Cover_Type|prediction|probability                                                                                                                       |\n",
      "+----------+----------+----------------------------------------------------------------------------------------------------------------------------------+\n",
      "|6.0       |3.0       |[0.0,3.15000315000315E-5,0.0676935676935677,0.6082971082971083,0.020317520317520318,0.0016695016695016695,0.30199080199080197,0.0]|\n",
      "|6.0       |4.0       |[0.0,0.0,0.041287613715885234,0.24212736179146255,0.616515045486354,0.009097270818754374,0.09097270818754374,0.0]                 |\n",
      "|6.0       |3.0       |[0.0,3.15000315000315E-5,0.0676935676935677,0.6082971082971083,0.020317520317520318,0.0016695016695016695,0.30199080199080197,0.0]|\n",
      "|6.0       |3.0       |[0.0,3.15000315000315E-5,0.0676935676935677,0.6082971082971083,0.020317520317520318,0.0016695016695016695,0.30199080199080197,0.0]|\n",
      "|6.0       |3.0       |[0.0,3.15000315000315E-5,0.0676935676935677,0.6082971082971083,0.020317520317520318,0.0016695016695016695,0.30199080199080197,0.0]|\n",
      "|6.0       |3.0       |[0.0,3.15000315000315E-5,0.0676935676935677,0.6082971082971083,0.020317520317520318,0.0016695016695016695,0.30199080199080197,0.0]|\n",
      "|6.0       |3.0       |[0.0,3.15000315000315E-5,0.0676935676935677,0.6082971082971083,0.020317520317520318,0.0016695016695016695,0.30199080199080197,0.0]|\n",
      "|6.0       |3.0       |[0.0,3.15000315000315E-5,0.0676935676935677,0.6082971082971083,0.020317520317520318,0.0016695016695016695,0.30199080199080197,0.0]|\n",
      "|6.0       |3.0       |[0.0,3.15000315000315E-5,0.0676935676935677,0.6082971082971083,0.020317520317520318,0.0016695016695016695,0.30199080199080197,0.0]|\n",
      "|6.0       |3.0       |[0.0,3.15000315000315E-5,0.0676935676935677,0.6082971082971083,0.020317520317520318,0.0016695016695016695,0.30199080199080197,0.0]|\n",
      "+----------+----------+----------------------------------------------------------------------------------------------------------------------------------+\n",
      "only showing top 10 rows\n",
      "\n"
     ]
    }
   ],
   "source": [
    "predictions = model.transform(assembled_train_data)\n",
    "predictions.select(\"Cover_Type\", \"prediction\", \"probability\").show(10, truncate = False)"
   ]
  },
  {
   "cell_type": "code",
   "execution_count": 22,
   "metadata": {},
   "outputs": [],
   "source": [
    "from pyspark.ml.evaluation import MulticlassClassificationEvaluator"
   ]
  },
  {
   "cell_type": "code",
   "execution_count": 23,
   "metadata": {},
   "outputs": [
    {
     "name": "stdout",
     "output_type": "stream",
     "text": [
      "Accuracy: 0.7031614816684546\n",
      "F1 Score:  0.6868680702002361\n",
      "Precision:  0.7012120552703207\n",
      "Recall:  0.7031614816684545\n"
     ]
    }
   ],
   "source": [
    "evaluator = MulticlassClassificationEvaluator(labelCol=\"Cover_Type\", predictionCol=\"prediction\")\n",
    "print(\"Accuracy:\",evaluator.setMetricName(\"accuracy\").evaluate(predictions))\n",
    "\n",
    "print(\"F1 Score: \",evaluator.setMetricName(\"f1\").evaluate(predictions))\n",
    "\n",
    "print(\"Precision: \",evaluator.setMetricName(\"weightedPrecision\").evaluate(predictions))\n",
    "\n",
    "print(\"Recall: \",evaluator.setMetricName(\"weightedRecall\").evaluate(predictions))"
   ]
  },
  {
   "cell_type": "markdown",
   "metadata": {},
   "source": [
    "Confusion Matrix"
   ]
  },
  {
   "cell_type": "code",
   "execution_count": 24,
   "metadata": {},
   "outputs": [
    {
     "name": "stdout",
     "output_type": "stream",
     "text": [
      "+----------+------+------+-----+----+---+---+-----+\n",
      "|Cover_Type|     1|     2|    3|   4|  5|  6|    7|\n",
      "+----------+------+------+-----+----+---+---+-----+\n",
      "|       1.0|122850| 62496|  103|   0| 21|  8| 5151|\n",
      "|       2.0| 45445|204709| 3683|  59|377| 56|  765|\n",
      "|       3.0|     0|  3858|27785| 359| 20|119|    0|\n",
      "|       4.0|     0|     4| 1321|1141|  0|  0|    0|\n",
      "|       5.0|     0|  7735|  332|  13|428|  0|    0|\n",
      "|       6.0|     0|  4446|10543| 130|  8|520|    0|\n",
      "|       7.0|  8021|   159|    0|   0|  0|  0|10286|\n",
      "+----------+------+------+-----+----+---+---+-----+\n",
      "\n"
     ]
    }
   ],
   "source": [
    "confusion_matrix = predictions.groupBy(\"Cover_Type\").pivot(\"prediction\", range(1,8)).\\\n",
    "count().na.fill(0.0).orderBy(\"Cover_Type\")\n",
    "confusion_matrix.show()"
   ]
  },
  {
   "cell_type": "code",
   "execution_count": null,
   "metadata": {},
   "outputs": [],
   "source": []
  },
  {
   "cell_type": "code",
   "execution_count": null,
   "metadata": {},
   "outputs": [],
   "source": []
  }
 ],
 "metadata": {
  "kernelspec": {
   "display_name": "Python 3",
   "language": "python",
   "name": "python3"
  },
  "language_info": {
   "codemirror_mode": {
    "name": "ipython",
    "version": 3
   },
   "file_extension": ".py",
   "mimetype": "text/x-python",
   "name": "python",
   "nbconvert_exporter": "python",
   "pygments_lexer": "ipython3",
   "version": "3.7.0"
  }
 },
 "nbformat": 4,
 "nbformat_minor": 2
}
