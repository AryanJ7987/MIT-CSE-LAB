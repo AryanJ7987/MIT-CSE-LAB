{
 "cells": [
  {
   "cell_type": "code",
   "execution_count": 10,
   "metadata": {},
   "outputs": [
    {
     "name": "stderr",
     "output_type": "stream",
     "text": [
      "/home/lplab/anaconda3/lib/python3.7/site-packages/pyspark/context.py:317: FutureWarning: Python 3.7 support is deprecated in Spark 3.4.\n",
      "  warnings.warn(\"Python 3.7 support is deprecated in Spark 3.4.\", FutureWarning)\n"
     ]
    },
    {
     "name": "stdout",
     "output_type": "stream",
     "text": [
      "+-------+-------+\n",
      "|numbers|squared|\n",
      "+-------+-------+\n",
      "|      4|   16.0|\n",
      "|      6|   36.0|\n",
      "|      7|   49.0|\n",
      "|      8|   64.0|\n",
      "|      9|   81.0|\n",
      "+-------+-------+\n",
      "\n"
     ]
    }
   ],
   "source": [
    "from pyspark.sql import SparkSession\n",
    "from pyspark.sql.functions import col\n",
    "spark = SparkSession.builder.appName(\"SquareIntegers\").getOrCreate()\n",
    "integers = [4, 6, 7, 8, 9]\n",
    "df = spark.createDataFrame([(i,) for i in integers], [\"numbers\"])\n",
    "squared_df = df.withColumn(\"squared\", col(\"numbers\") ** 2)\n",
    "squared_df.show()\n",
    "spark.stop()"
   ]
  },
  {
   "cell_type": "code",
   "execution_count": 11,
   "metadata": {},
   "outputs": [
    {
     "name": "stderr",
     "output_type": "stream",
     "text": [
      "/home/lplab/anaconda3/lib/python3.7/site-packages/pyspark/context.py:317: FutureWarning: Python 3.7 support is deprecated in Spark 3.4.\n",
      "  warnings.warn(\"Python 3.7 support is deprecated in Spark 3.4.\", FutureWarning)\n"
     ]
    },
    {
     "name": "stdout",
     "output_type": "stream",
     "text": [
      "The maximum number is: 79\n"
     ]
    }
   ],
   "source": [
    "from pyspark.sql import SparkSession\n",
    "from pyspark.sql.functions import col, max as spark_max\n",
    "spark = SparkSession.builder.appName(\"MaxOfNumbers\").getOrCreate()\n",
    "numbers = [2, 4, 8, 67, 32, 79]\n",
    "df = spark.createDataFrame([(i,) for i in numbers], [\"numbers\"])\n",
    "max_number = df.agg(spark_max(col(\"numbers\"))).collect()[0][0]\n",
    "print(\"The maximum number is:\", max_number)\n",
    "spark.stop()"
   ]
  },
  {
   "cell_type": "code",
   "execution_count": 12,
   "metadata": {},
   "outputs": [
    {
     "name": "stderr",
     "output_type": "stream",
     "text": [
      "/home/lplab/anaconda3/lib/python3.7/site-packages/pyspark/context.py:317: FutureWarning: Python 3.7 support is deprecated in Spark 3.4.\n",
      "  warnings.warn(\"Python 3.7 support is deprecated in Spark 3.4.\", FutureWarning)\n"
     ]
    },
    {
     "name": "stdout",
     "output_type": "stream",
     "text": [
      "+-------+\n",
      "|average|\n",
      "+-------+\n",
      "|    6.8|\n",
      "+-------+\n",
      "\n"
     ]
    }
   ],
   "source": [
    "from pyspark.sql import SparkSession\n",
    "from pyspark.sql.functions import col, avg\n",
    "\n",
    "# Create a Spark session\n",
    "spark = SparkSession.builder.appName(\"AverageNumbers\").getOrCreate()\n",
    "\n",
    "# List of numbers\n",
    "numbers = [4, 6, 7, 8, 9]\n",
    "\n",
    "# Create a DataFrame\n",
    "df = spark.createDataFrame([(i,) for i in numbers], [\"numbers\"])\n",
    "\n",
    "# Calculate the average of the numbers\n",
    "average_df = df.select(avg(col(\"numbers\")).alias(\"average\"))\n",
    "\n",
    "# Show the result\n",
    "average_df.show()\n",
    "\n",
    "# Stop the Spark session\n",
    "spark.stop()\n"
   ]
  },
  {
   "cell_type": "code",
   "execution_count": 13,
   "metadata": {},
   "outputs": [
    {
     "name": "stderr",
     "output_type": "stream",
     "text": [
      "/home/lplab/anaconda3/lib/python3.7/site-packages/pyspark/context.py:317: FutureWarning: Python 3.7 support is deprecated in Spark 3.4.\n",
      "  warnings.warn(\"Python 3.7 support is deprecated in Spark 3.4.\", FutureWarning)\n"
     ]
    },
    {
     "name": "stdout",
     "output_type": "stream",
     "text": [
      "+-------+---+----+\n",
      "|   Name|sec|cgpa|\n",
      "+-------+---+----+\n",
      "|karthik|  h|  10|\n",
      "|  rahul|  a|   9|\n",
      "|   soma|  d|   8|\n",
      "|abhiram|  f|   7|\n",
      "|  vamsi|  g|   6|\n",
      "+-------+---+----+\n",
      "\n"
     ]
    }
   ],
   "source": [
    "from pyspark.sql import SparkSession\n",
    "\n",
    "# Create a Spark session\n",
    "spark = SparkSession.builder.appName(\"ReadCSV\").getOrCreate()\n",
    "\n",
    "# Specify the CSV file path\n",
    "csv_file_path = \"lab1.csv\"\n",
    "\n",
    "# Read the CSV file into a DataFrame\n",
    "df = spark.read.csv(csv_file_path, header=True, inferSchema=True)\n",
    "\n",
    "# Show the contents of the DataFrame\n",
    "df.show()\n",
    "\n",
    "# Stop the Spark session\n",
    "spark.stop()"
   ]
  },
  {
   "cell_type": "code",
   "execution_count": 15,
   "metadata": {},
   "outputs": [
    {
     "name": "stderr",
     "output_type": "stream",
     "text": [
      "/home/lplab/anaconda3/lib/python3.7/site-packages/pyspark/context.py:317: FutureWarning: Python 3.7 support is deprecated in Spark 3.4.\n",
      "  warnings.warn(\"Python 3.7 support is deprecated in Spark 3.4.\", FutureWarning)\n"
     ]
    },
    {
     "name": "stdout",
     "output_type": "stream",
     "text": [
      "First few rows:\n",
      "+-------+---+----+\n",
      "|   Name|sec|cgpa|\n",
      "+-------+---+----+\n",
      "|karthik|  h|  10|\n",
      "|  rahul|  a|   9|\n",
      "+-------+---+----+\n",
      "only showing top 2 rows\n",
      "\n",
      "\n",
      "DataFrame Schema:\n",
      "root\n",
      " |-- Name: string (nullable = true)\n",
      " |-- sec: string (nullable = true)\n",
      " |-- cgpa: integer (nullable = true)\n",
      "\n"
     ]
    }
   ],
   "source": [
    "from pyspark.sql import SparkSession\n",
    "\n",
    "# Create a Spark session\n",
    "spark = SparkSession.builder.appName(\"ShowDataFrame\").getOrCreate()\n",
    "\n",
    "# Specify the CSV file path (replace with your actual file path)\n",
    "csv_file_path = \"lab1.csv\"\n",
    "\n",
    "# Read the CSV file into a DataFrame\n",
    "df = spark.read.csv(csv_file_path, header=True, inferSchema=True)\n",
    "\n",
    "# Show the first few rows of the DataFrame\n",
    "print(\"First few rows:\")\n",
    "df.show(2)  # Display the first 5 rows\n",
    "\n",
    "# Display the schema of the DataFrame\n",
    "print(\"\\nDataFrame Schema:\")\n",
    "df.printSchema()\n",
    "\n",
    "# Stop the Spark session\n",
    "spark.stop()\n"
   ]
  },
  {
   "cell_type": "code",
   "execution_count": 20,
   "metadata": {},
   "outputs": [
    {
     "name": "stdout",
     "output_type": "stream",
     "text": [
      "+-------+------------------+\n",
      "|summary|              cgpa|\n",
      "+-------+------------------+\n",
      "|  count|                 5|\n",
      "|   mean|               8.0|\n",
      "| stddev|1.5811388300841898|\n",
      "|    min|                 6|\n",
      "|    max|                10|\n",
      "+-------+------------------+\n",
      "\n"
     ]
    }
   ],
   "source": [
    "from pyspark.sql import SparkSession\n",
    "\n",
    "# Create a Spark session\n",
    "spark = SparkSession.builder.appName(\"SummaryStatistics\").getOrCreate()\n",
    "\n",
    "# Specify the CSV file path (replace with your actual file path)\n",
    "csv_file_path = \"lab1.csv\"\n",
    "\n",
    "# Read the CSV file into a DataFrame\n",
    "df = spark.read.csv(csv_file_path, header=True, inferSchema=True)\n",
    "\n",
    "# Specify the column for which you want to calculate summary statistics\n",
    "selected_column = \"cgpa\"  # Replace with the actual column name\n",
    "\n",
    "# Calculate summary statistics for the specified column\n",
    "summary_statistics = df.select(selected_column).describe()\n",
    "\n",
    "# Show the summary statistics\n",
    "summary_statistics.show()\n",
    "\n",
    "# Stop the Spark session\n",
    "spark.stop()\n"
   ]
  },
  {
   "cell_type": "code",
   "execution_count": null,
   "metadata": {},
   "outputs": [],
   "source": []
  }
 ],
 "metadata": {
  "kernelspec": {
   "display_name": "Python 3",
   "language": "python",
   "name": "python3"
  },
  "language_info": {
   "codemirror_mode": {
    "name": "ipython",
    "version": 3
   },
   "file_extension": ".py",
   "mimetype": "text/x-python",
   "name": "python",
   "nbconvert_exporter": "python",
   "pygments_lexer": "ipython3",
   "version": "3.7.0"
  }
 },
 "nbformat": 4,
 "nbformat_minor": 2
}
