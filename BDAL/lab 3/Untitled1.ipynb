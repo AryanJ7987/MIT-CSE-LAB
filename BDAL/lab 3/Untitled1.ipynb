{
 "cells": [
  {
   "cell_type": "code",
   "execution_count": 1,
   "metadata": {},
   "outputs": [],
   "source": [
    "import pyspark\n",
    "import sys \n",
    "from pyspark import SparkContext\n",
    "from pyspark import SparkConf\n",
    "from pyspark.sql import SparkSession\n",
    "from pyspark.sql.functions import col \n",
    "from pyspark.sql.functions import expr\n",
    "\n",
    "\n"
   ]
  },
  {
   "cell_type": "code",
   "execution_count": 3,
   "metadata": {},
   "outputs": [
    {
     "name": "stdout",
     "output_type": "stream",
     "text": [
      "+-----+-----+-----------------+------------+------------+------------+-------+------+------+------+-------+--------+\n",
      "|  _c0|  _c1|              _c2|         _c3|         _c4|         _c5|    _c6|   _c7|   _c8|   _c9|   _c10|    _c11|\n",
      "+-----+-----+-----------------+------------+------------+------------+-------+------+------+------+-------+--------+\n",
      "| id_1| id_2|     cmp_fname_c1|cmp_fname_c2|cmp_lname_c1|cmp_lname_c2|cmp_sex|cmp_bd|cmp_bm|cmp_by|cmp_plz|is_match|\n",
      "|37291|53113|0.833333333333333|           ?|           1|           ?|      1|     1|     1|     1|      0|    TRUE|\n",
      "|39086|47614|                1|           ?|           1|           ?|      1|     1|     1|     1|      1|    TRUE|\n",
      "|70031|70237|                1|           ?|           1|           ?|      1|     1|     1|     1|      1|    TRUE|\n",
      "|84795|97439|                1|           ?|           1|           ?|      1|     1|     1|     1|      1|    TRUE|\n",
      "|36950|42116|                1|           ?|           1|           1|      1|     1|     1|     1|      1|    TRUE|\n",
      "|42413|48491|                1|           ?|           1|           ?|      1|     1|     1|     1|      1|    TRUE|\n",
      "|25965|64753|                1|           ?|           1|           ?|      1|     1|     1|     1|      1|    TRUE|\n",
      "|49451|90407|                1|           ?|           1|           ?|      1|     1|     1|     1|      0|    TRUE|\n",
      "|39932|40902|                1|           ?|           1|           ?|      1|     1|     1|     1|      1|    TRUE|\n",
      "|46626|47940|                1|           ?|           1|           ?|      1|     1|     1|     1|      1|    TRUE|\n",
      "|48948|98379|                1|           ?|           1|           ?|      1|     1|     1|     1|      1|    TRUE|\n",
      "| 4767| 4826|                1|           ?|           1|           ?|      1|     1|     1|     1|      1|    TRUE|\n",
      "|45463|69659|                1|           ?|           1|           ?|      1|     1|     1|     1|      1|    TRUE|\n",
      "|11367|13169|                1|           ?|           1|           ?|      1|     1|     1|     1|      1|    TRUE|\n",
      "|10782|89636|                1|           ?|           1|           ?|      1|     0|     1|     1|      1|    TRUE|\n",
      "|26206|39147|                1|           ?|           1|           ?|      1|     1|     1|     1|      1|    TRUE|\n",
      "|16662|27083|                1|           1|           1|           ?|      1|     1|     1|     1|      1|    TRUE|\n",
      "|18823|30204|                1|           1|           1|           ?|      1|     1|     1|     1|      1|    TRUE|\n",
      "|38545|85418|                1|           ?|           1|           ?|      1|     1|     1|     1|      1|    TRUE|\n",
      "+-----+-----+-----------------+------------+------------+------------+-------+------+------+------+-------+--------+\n",
      "only showing top 20 rows\n",
      "\n"
     ]
    }
   ],
   "source": [
    "spark = SparkSession.builder.getOrCreate()\n",
    "# df = spark.read.text(\"wordcount.txt\")\n",
    "df = spark.read.option(\"recursiveFileLookup\", \"true\").csv(\"/home/lplab/Desktop/210962018/lab3/donation/block_*.csv\")\n",
    "df.show()\n"
   ]
  },
  {
   "cell_type": "code",
   "execution_count": 5,
   "metadata": {},
   "outputs": [
    {
     "name": "stdout",
     "output_type": "stream",
     "text": [
      "+-----+-----+-----------------+------------+------------+------------+-------+------+------+------+-------+--------+\n",
      "| id_1| id_2|     cmp_fname_c1|cmp_fname_c2|cmp_lname_c1|cmp_lname_c2|cmp_sex|cmp_bd|cmp_bm|cmp_by|cmp_plz|is_match|\n",
      "+-----+-----+-----------------+------------+------------+------------+-------+------+------+------+-------+--------+\n",
      "|37291|53113|0.833333333333333|        null|         1.0|        null|      1|     1|     1|     1|      0|    true|\n",
      "|39086|47614|              1.0|        null|         1.0|        null|      1|     1|     1|     1|      1|    true|\n",
      "|70031|70237|              1.0|        null|         1.0|        null|      1|     1|     1|     1|      1|    true|\n",
      "|84795|97439|              1.0|        null|         1.0|        null|      1|     1|     1|     1|      1|    true|\n",
      "|36950|42116|              1.0|        null|         1.0|         1.0|      1|     1|     1|     1|      1|    true|\n",
      "|42413|48491|              1.0|        null|         1.0|        null|      1|     1|     1|     1|      1|    true|\n",
      "|25965|64753|              1.0|        null|         1.0|        null|      1|     1|     1|     1|      1|    true|\n",
      "|49451|90407|              1.0|        null|         1.0|        null|      1|     1|     1|     1|      0|    true|\n",
      "|39932|40902|              1.0|        null|         1.0|        null|      1|     1|     1|     1|      1|    true|\n",
      "|46626|47940|              1.0|        null|         1.0|        null|      1|     1|     1|     1|      1|    true|\n",
      "|48948|98379|              1.0|        null|         1.0|        null|      1|     1|     1|     1|      1|    true|\n",
      "| 4767| 4826|              1.0|        null|         1.0|        null|      1|     1|     1|     1|      1|    true|\n",
      "|45463|69659|              1.0|        null|         1.0|        null|      1|     1|     1|     1|      1|    true|\n",
      "|11367|13169|              1.0|        null|         1.0|        null|      1|     1|     1|     1|      1|    true|\n",
      "|10782|89636|              1.0|        null|         1.0|        null|      1|     0|     1|     1|      1|    true|\n",
      "|26206|39147|              1.0|        null|         1.0|        null|      1|     1|     1|     1|      1|    true|\n",
      "|16662|27083|              1.0|         1.0|         1.0|        null|      1|     1|     1|     1|      1|    true|\n",
      "|18823|30204|              1.0|         1.0|         1.0|        null|      1|     1|     1|     1|      1|    true|\n",
      "|38545|85418|              1.0|        null|         1.0|        null|      1|     1|     1|     1|      1|    true|\n",
      "|28963|39172|              1.0|        null|         1.0|        null|      1|     1|     1|     1|      1|    true|\n",
      "+-----+-----+-----------------+------------+------------+------------+-------+------+------+------+-------+--------+\n",
      "only showing top 20 rows\n",
      "\n",
      "Count of Dataframe with all 10 .csv files loaded =  574913\n"
     ]
    }
   ],
   "source": [
    "# CLEANING AND PREPROCESS DATA\n",
    "\n",
    "\n",
    "spark = SparkSession.builder.getOrCreate()\n",
    "\n",
    "df = spark.read.option(\"header\",\"true\").option(\"nullValue\",\"?\").option(\"inferSchema\",\"true\").csv(\"donation/block_1.csv\")\n",
    "\n",
    "df.show()\n",
    "\n",
    "print(\"Count of Dataframe with all 10 .csv files loaded = \",df.count())\n"
   ]
  },
  {
   "cell_type": "code",
   "execution_count": 6,
   "metadata": {},
   "outputs": [
    {
     "name": "stdout",
     "output_type": "stream",
     "text": [
      "root\n",
      " |-- id_1: integer (nullable = true)\n",
      " |-- id_2: integer (nullable = true)\n",
      " |-- cmp_fname_c1: double (nullable = true)\n",
      " |-- cmp_fname_c2: double (nullable = true)\n",
      " |-- cmp_lname_c1: double (nullable = true)\n",
      " |-- cmp_lname_c2: double (nullable = true)\n",
      " |-- cmp_sex: integer (nullable = true)\n",
      " |-- cmp_bd: integer (nullable = true)\n",
      " |-- cmp_bm: integer (nullable = true)\n",
      " |-- cmp_by: integer (nullable = true)\n",
      " |-- cmp_plz: integer (nullable = true)\n",
      " |-- is_match: boolean (nullable = true)\n",
      "\n",
      "+-----+-----+-----------------+------------+-----------------+------------+-------+------+------+------+-------+--------+\n",
      "| id_1| id_2|     cmp_fname_c1|cmp_fname_c2|     cmp_lname_c1|cmp_lname_c2|cmp_sex|cmp_bd|cmp_bm|cmp_by|cmp_plz|is_match|\n",
      "+-----+-----+-----------------+------------+-----------------+------------+-------+------+------+------+-------+--------+\n",
      "|20206|55692|              1.0|        null|0.166666666666667|        null|      1|     0|     0|     1|      0|   false|\n",
      "|13466|69531|              1.0|        null|              0.2|        null|      1|     0|     0|     1|      0|   false|\n",
      "| 5128|12019|              0.0|        null|              0.5|        null|      1|     0|     0|     0|      0|   false|\n",
      "|92397|96348|              1.0|        null|0.333333333333333|        null|      1|     1|     0|     0|      0|   false|\n",
      "|52111|54246|              1.0|        null|0.111111111111111|        null|      1|     0|     0|     1|      0|   false|\n",
      "|16024|27196|              1.0|        null|              0.2|        null|      1|     1|     0|     0|      0|   false|\n",
      "| 5975|16910|              1.0|        null|              0.2|        null|      1|     0|     1|     0|      0|   false|\n",
      "| 6444|92509|              1.0|         1.0|              0.2|        null|      1|     1|     0|     0|      0|   false|\n",
      "|66415|79216|              1.0|        null|              0.0|        null|      1|     0|     1|     0|      0|   false|\n",
      "|41333|91953|              0.0|        null|              1.0|        null|      1|     0|     0|     0|      0|   false|\n",
      "|49601|65455|              1.0|         1.0|              0.0|        null|      1|     0|     1|     0|      0|   false|\n",
      "|17909|44189|              1.0|        null|0.111111111111111|        null|      1|     0|     1|     0|      1|   false|\n",
      "|63978|69016|              1.0|        null|              0.0|        null|      1|     1|     0|     0|      0|   false|\n",
      "|14076|42054|0.166666666666667|        null|              1.0|        null|      1|     0|     0|     1|      0|   false|\n",
      "|79602|97888|              1.0|        null|0.333333333333333|        null|      1|     1|     1|     0|      0|   false|\n",
      "|39803|89596|              0.8|        null|0.222222222222222|        null|      1|     0|     1|     0|      0|   false|\n",
      "|81129|89653|0.166666666666667|        null|              1.0|        null|      1|     0|     0|     0|      0|   false|\n",
      "| 8686|26326|              0.0|        null|              1.0|        null|      1|     0|     0|     0|      0|   false|\n",
      "| 1167|29870|0.222222222222222|        null|              1.0|        null|      1|     0|     0|     0|      0|   false|\n",
      "|29419|89827|              0.4|        null|              0.2|        null|      1|     1|     0|     0|      0|   false|\n",
      "+-----+-----+-----------------+------------+-----------------+------------+-------+------+------+------+-------+--------+\n",
      "only showing top 20 rows\n",
      "\n"
     ]
    }
   ],
   "source": [
    "df.printSchema()\n",
    "\n",
    "df1 = df[df['is_match'] == 'false']\n",
    "df1.show()\n"
   ]
  },
  {
   "cell_type": "code",
   "execution_count": 7,
   "metadata": {},
   "outputs": [
    {
     "name": "stdout",
     "output_type": "stream",
     "text": [
      "+--------+------+\n",
      "|is_match| count|\n",
      "+--------+------+\n",
      "|   false|572820|\n",
      "|    true|  2093|\n",
      "+--------+------+\n",
      "\n",
      "+-------+------------------+------------------+\n",
      "|summary|      cmp_fname_c1|      cmp_fname_c2|\n",
      "+-------+------------------+------------------+\n",
      "|  count|            574811|             10325|\n",
      "|   mean|0.7127592938253411|0.8977586763518969|\n",
      "| stddev|0.3889286452463531|0.2742577520430532|\n",
      "|    min|               0.0|               0.0|\n",
      "|    max|               1.0|               1.0|\n",
      "+-------+------------------+------------------+\n",
      "\n",
      "+-------+-------------------+-------------------+\n",
      "|summary|       cmp_fname_c1|       cmp_fname_c2|\n",
      "+-------+-------------------+-------------------+\n",
      "|  count|               2091|                128|\n",
      "|   mean| 0.9970329792424486| 0.9955357142857143|\n",
      "| stddev|0.03979189523588238|0.05050762722761048|\n",
      "|    min|                0.0|  0.428571428571429|\n",
      "|    max|                1.0|                1.0|\n",
      "+-------+-------------------+-------------------+\n",
      "\n",
      "+-------+------------------+-------------------+\n",
      "|summary|      cmp_fname_c1|       cmp_fname_c2|\n",
      "+-------+------------------+-------------------+\n",
      "|  count|            572720|              10197|\n",
      "|   mean|0.7117214109572619| 0.8965313093953872|\n",
      "| stddev|0.3892503865780509|0.27569600395266153|\n",
      "|    min|               0.0|                0.0|\n",
      "|    max|               1.0|                1.0|\n",
      "+-------+------------------+-------------------+\n",
      "\n"
     ]
    }
   ],
   "source": [
    "df.groupBy(\"is_match\").count().orderBy(col(\"count\").desc()).show()\n",
    "\n",
    "summary = df.describe()\n",
    "summary.select(\"summary\", \"cmp_fname_c1\", \"cmp_fname_c2\").show()\n",
    "\n",
    "matches = df.where(\"is_match = true\")\n",
    "match_summary = matches.describe()\n",
    "match_summary.select(\"summary\",\"cmp_fname_c1\",\"cmp_fname_c2\").show()\n",
    "\n",
    "misses = df.where(\"is_match = false\")\n",
    "misses_summary = misses.describe()\n",
    "misses_summary.select(\"summary\",\"cmp_fname_c1\",\"cmp_fname_c2\").show()"
   ]
  },
  {
   "cell_type": "markdown",
   "metadata": {},
   "source": [
    "# question 2 or similarity score"
   ]
  },
  {
   "cell_type": "code",
   "execution_count": 8,
   "metadata": {},
   "outputs": [
    {
     "name": "stdout",
     "output_type": "stream",
     "text": [
      "+-----+--------+\n",
      "|score|is_match|\n",
      "+-----+--------+\n",
      "|  4.0|    true|\n",
      "|  5.0|    true|\n",
      "|  5.0|    true|\n",
      "|  5.0|    true|\n",
      "|  5.0|    true|\n",
      "|  5.0|    true|\n",
      "|  5.0|    true|\n",
      "|  4.0|    true|\n",
      "|  5.0|    true|\n",
      "|  5.0|    true|\n",
      "|  5.0|    true|\n",
      "|  5.0|    true|\n",
      "|  5.0|    true|\n",
      "|  5.0|    true|\n",
      "|  4.0|    true|\n",
      "|  5.0|    true|\n",
      "|  5.0|    true|\n",
      "|  5.0|    true|\n",
      "|  5.0|    true|\n",
      "|  5.0|    true|\n",
      "+-----+--------+\n",
      "only showing top 20 rows\n",
      "\n"
     ]
    }
   ],
   "source": [
    "good_features = [\"cmp_lname_c1\",\"cmp_plz\",\"cmp_by\",\"cmp_bd\",\"cmp_bm\"]\n",
    "\n",
    "sum_expression = \" + \".join(good_features)\n",
    "\n",
    "scored = df.fillna(0,subset = good_features).withColumn('score',expr(sum_expression)).select('score','is_match')\n",
    "\n",
    "scored.show()"
   ]
  },
  {
   "cell_type": "markdown",
   "metadata": {},
   "source": [
    "question 3 or Calculating Precision,Recall and F1-Score"
   ]
  },
  {
   "cell_type": "code",
   "execution_count": 9,
   "metadata": {},
   "outputs": [
    {
     "name": "stdout",
     "output_type": "stream",
     "text": [
      "Precision: 0.9693450998606595\n",
      "Recall: 0.9971333014811276\n",
      "F1 Score: 0.9830428638718794\n"
     ]
    }
   ],
   "source": [
    "def calculate_metrics(scored, threshold):\n",
    "    tp = scored.filter((col('score') >= threshold) & (col('is_match') == 'true')).count()\n",
    "    fp = scored.filter((col('score') >= threshold) & (col('is_match') == 'false')).count()\n",
    "    fn = scored.filter((col('score') < threshold) & (col('is_match') == 'true')).count()\n",
    "\n",
    "    precision = tp / (tp + fp) if (tp + fp) != 0 else 0\n",
    "    recall = tp / (tp + fn) if (tp + fn) != 0 else 0\n",
    "    f1_score = 2 * (precision * recall) / (precision + recall) if (precision + recall) != 0 else 0\n",
    "\n",
    "    return precision, recall, f1_score\n",
    "\n",
    "threshold = 4.0\n",
    "\n",
    "precision, recall, f1_score = calculate_metrics(scored, threshold)\n",
    "\n",
    "print(f\"Precision: {precision}\")\n",
    "print(f\"Recall: {recall}\")\n",
    "print(f\"F1 Score: {f1_score}\")"
   ]
  },
  {
   "cell_type": "code",
   "execution_count": null,
   "metadata": {},
   "outputs": [],
   "source": []
  }
 ],
 "metadata": {
  "kernelspec": {
   "display_name": "Python 3",
   "language": "python",
   "name": "python3"
  },
  "language_info": {
   "codemirror_mode": {
    "name": "ipython",
    "version": 3
   },
   "file_extension": ".py",
   "mimetype": "text/x-python",
   "name": "python",
   "nbconvert_exporter": "python",
   "pygments_lexer": "ipython3",
   "version": "3.7.0"
  }
 },
 "nbformat": 4,
 "nbformat_minor": 2
}
